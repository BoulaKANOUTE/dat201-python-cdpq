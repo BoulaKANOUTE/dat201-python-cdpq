{
 "cells": [
  {
   "cell_type": "markdown",
   "metadata": {},
   "source": [
    "# Analyse et visualisation de données avec Python"
   ]
  },
  {
   "cell_type": "markdown",
   "metadata": {},
   "source": [
    "## Matériel inspiré d'un cours Data Carpentry\n",
    "Cet atelier est basé sur le cours *Python for ecologists* de Data Carpentry :\n",
    "\n",
    "http://www.datacarpentry.org/python-ecology-lesson/"
   ]
  },
  {
   "cell_type": "markdown",
   "metadata": {},
   "source": [
    "## Configuration (si requis)\n",
    "1. Télécharger et extraire le matériel :\n",
    "```\n",
    "wget https://github.com/calculquebec/dat201-python-cdpq/archive/master.zip\n",
    "```\n",
    "1. Démarrer Jupyter\n",
    "```\n",
    "jupyter notebook\n",
    "```\n",
    "1. Dans le portail Jupyter, naviguer jusqu'au dossier \"`notebooks_fr`\" et cliquer sur \"`02-donnees.ipynb`\""
   ]
  },
  {
   "cell_type": "code",
   "execution_count": null,
   "metadata": {
    "collapsed": true
   },
   "outputs": [],
   "source": []
  }
 ],
 "metadata": {
  "anaconda-cloud": {},
  "kernelspec": {
   "display_name": "Python 3",
   "language": "python",
   "name": "python3"
  },
  "language_info": {
   "codemirror_mode": {
    "name": "ipython",
    "version": 3
   },
   "file_extension": ".py",
   "mimetype": "text/x-python",
   "name": "python",
   "nbconvert_exporter": "python",
   "pygments_lexer": "ipython3",
   "version": "3.7.4"
  }
 },
 "nbformat": 4,
 "nbformat_minor": 1
}
