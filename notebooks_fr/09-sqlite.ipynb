{
 "cells": [
  {
   "cell_type": "markdown",
   "metadata": {},
   "source": [
    "# Analyse et visualisation de données avec Python\n",
    "## Accéder à des bases de données SQLite via Pandas\n",
    "Questions\n",
    "* Si mes données sont dans une base de données SQL, puis-je les utiliser?\n",
    "* Comment sauvegarder des données de Python à une base de données SQL?\n",
    "\n",
    "Objectifs\n",
    "* Utiliser le module `sqlite3` pour interagir avec une base de données SQL.\n",
    "* Accéder aux données d'un fichier SQLite via Python.\n",
    "* Décrire les différences entre utiliser un fichier CSV et un fichier SQLite.\n",
    "* Décrire les avantages à utiliser une base de données SQL."
   ]
  },
  {
   "cell_type": "markdown",
   "metadata": {},
   "source": [
    "## CSV vs SQLite\n",
    "Stocker les données dans un fichier SQLite peut accélérer substantiellement les opérations de lecture et écriture en comparaison avec un fichier CSV. La différence en performance devient de plus en plus évidente lorsque le jeu de données grossit (voir par exemple [ce test de performance](http://sebastianraschka.com/Articles/2013_sqlite_database.html#results-and-conclusions))."
   ]
  },
  {
   "cell_type": "markdown",
   "metadata": {},
   "source": [
    "## Python et SQL\n",
    "### Le module `sqlite3`"
   ]
  },
  {
   "cell_type": "code",
   "execution_count": null,
   "metadata": {},
   "outputs": [],
   "source": [
    "import ###"
   ]
  },
  {
   "cell_type": "code",
   "execution_count": null,
   "metadata": {},
   "outputs": [],
   "source": [
    "# Créer une connexion SQL à notre fichier SQLite\n",
    "con = ###(\"../data/###.sqlite\")\n",
    "\n",
    "cur = con.###()\n",
    "\n",
    "# Le résultat de \"cursor.execute()\" peut être traité rangée par rangée\n",
    "for ### in cur.###('SELECT * FROM ###'):\n",
    "    print(row)\n",
    "\n",
    "# Assurez-vous de fermer la connexion\n",
    "con.###()"
   ]
  },
  {
   "cell_type": "markdown",
   "metadata": {},
   "source": [
    "### Différentes requêtes"
   ]
  },
  {
   "cell_type": "code",
   "execution_count": null,
   "metadata": {},
   "outputs": [],
   "source": [
    "# Créer une connexion SQL à notre fichier SQLite\n",
    "con = sqlite3.connect(\"../data/donnees.sqlite\")\n",
    "\n",
    "cur = con.cursor()"
   ]
  },
  {
   "cell_type": "code",
   "execution_count": null,
   "metadata": {},
   "outputs": [],
   "source": [
    "# Retourner tous les résultats d'une requête\n",
    "cur.execute('SELECT DISTINCT ### FROM ### WHERE Market_Cap_USD > ###')\n",
    "cur.###()"
   ]
  },
  {
   "cell_type": "code",
   "execution_count": null,
   "metadata": {},
   "outputs": [],
   "source": [
    "# Retourner seulement la première rangée\n",
    "cur.execute('SELECT company_### FROM ### WHERE company_ID=###')\n",
    "cur.###()"
   ]
  },
  {
   "cell_type": "code",
   "execution_count": null,
   "metadata": {},
   "outputs": [],
   "source": [
    "# Assurez-vous de fermer la connexion\n",
    "con.close()"
   ]
  },
  {
   "cell_type": "markdown",
   "metadata": {},
   "source": [
    "## Charger les données d'une table SQLite dans un DataFrame"
   ]
  },
  {
   "cell_type": "code",
   "execution_count": null,
   "metadata": {},
   "outputs": [],
   "source": [
    "import pandas as pd\n",
    "\n",
    "con = sqlite3.connect(\"../data/donnees.sqlite\")\n",
    "valeurs = pd.###(\"SELECT * from valeurs\", ###)\n",
    "con.close()\n",
    "\n",
    "valeurs.head()"
   ]
  },
  {
   "cell_type": "markdown",
   "metadata": {},
   "source": [
    "## Sauvegarder les données - créer de nouvelles tables"
   ]
  },
  {
   "cell_type": "code",
   "execution_count": null,
   "metadata": {},
   "outputs": [],
   "source": [
    "! echo \"pragma table_info(valeurs);\" | sqlite3 ../data/donnees.sqlite"
   ]
  },
  {
   "cell_type": "code",
   "execution_count": null,
   "metadata": {},
   "outputs": [],
   "source": [
    "con = sqlite3.connect(\"../data/donnees.sqlite\")\n",
    "\n",
    "valeurs = pd.read_sql_query(\"SELECT * from valeurs\", con, ###)\n",
    "\n",
    "# Sélectionner les enregistrements pour 2017\n",
    "valeurs2017 = valeurs[valeurs['year'] == 2017]\n",
    "\n",
    "# Écrire le nouveau DataFrame dans une nouvelle table SQLite\n",
    "valeurs2017.###(\"valeurs2017\", con, ###)\n",
    "\n",
    "con.close()\n",
    "\n",
    "valeurs2017.head()"
   ]
  },
  {
   "cell_type": "code",
   "execution_count": null,
   "metadata": {},
   "outputs": [],
   "source": [
    "! echo \"select * from valeurs2017;\" | sqlite3 ../data/donnees.sqlite | head"
   ]
  },
  {
   "cell_type": "markdown",
   "metadata": {},
   "source": [
    "### Exercice - Sauvegarder votre travail\n",
    "1. Pour chaque exemple ci-dessous, modifier le code pour sauvegarder le résultat dans une nouvelle tables du fichier SQLite.\n",
    "1. Pour quelles raisons voudrait-on sauvegarder certains résultats, mais pas d'autres?"
   ]
  },
  {
   "cell_type": "code",
   "execution_count": null,
   "metadata": {},
   "outputs": [],
   "source": []
  }
 ],
 "metadata": {
  "anaconda-cloud": {},
  "kernelspec": {
   "display_name": "Python 3",
   "language": "python",
   "name": "python3"
  },
  "language_info": {
   "codemirror_mode": {
    "name": "ipython",
    "version": 3
   },
   "file_extension": ".py",
   "mimetype": "text/x-python",
   "name": "python",
   "nbconvert_exporter": "python",
   "pygments_lexer": "ipython3",
   "version": "3.7.4"
  }
 },
 "nbformat": 4,
 "nbformat_minor": 1
}
