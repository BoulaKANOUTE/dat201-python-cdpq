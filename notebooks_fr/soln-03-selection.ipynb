{
 "cells": [
  {
   "cell_type": "markdown",
   "metadata": {},
   "source": [
    "# Analyse et visualisation de données avec Python\n",
    "## Accéder à un sous-ensemble d'un DataFrames\n",
    "Questions\n",
    "* Comment accéder à des données spécifiques dans un dataframe?\n",
    "\n",
    "Objectifs\n",
    "* Utiliser les tranches pour sélectionner un intervalle de données.\n",
    "* Utiliser les étiquettes de rangées et les noms de colonnes pour délimiter une tranche.\n",
    "* Réassigner des valeurs à une sélection dans un dataframe.\n",
    "* Créer une copie d'un dataframe.\n",
    "* Effectuer une sélection en utilisant un critère contenant un opérateur: `=`, `!=`, `>`, `<`, `>=`, `<=`.\n",
    "* Manipuler les données avec des masques de valeurs booléennes."
   ]
  },
  {
   "cell_type": "markdown",
   "metadata": {},
   "source": [
    "## Charger nos données"
   ]
  },
  {
   "cell_type": "code",
   "execution_count": null,
   "metadata": {},
   "outputs": [],
   "source": [
    "# first make sure pandas is loaded\n",
    "import pandas as pd\n",
    "\n",
    "# read in the survey csv\n",
    "valeurs = pd.read_csv(\"../data/valeurs.csv\")"
   ]
  },
  {
   "cell_type": "markdown",
   "metadata": {},
   "source": [
    "## *Indexing* et *Slicing* dans Python\n",
    "### Sélectionner des données en utilisant des noms de colonne"
   ]
  },
  {
   "cell_type": "code",
   "execution_count": null,
   "metadata": {},
   "outputs": [],
   "source": [
    "valeurs['company_ID']"
   ]
  },
  {
   "cell_type": "code",
   "execution_count": null,
   "metadata": {},
   "outputs": [],
   "source": [
    "les_cie = valeurs['company_ID']"
   ]
  },
  {
   "cell_type": "code",
   "execution_count": null,
   "metadata": {},
   "outputs": [],
   "source": [
    "# Sélectionner deux colonnes à l'aide d'une liste\n",
    "valeurs[['company_ID', 'record_id']]"
   ]
  },
  {
   "cell_type": "markdown",
   "metadata": {},
   "source": [
    "### Copier et référencer des objets dans Python"
   ]
  },
  {
   "cell_type": "code",
   "execution_count": null,
   "metadata": {},
   "outputs": [],
   "source": [
    "# Créer une copie du dataframe avec les mêmes valeurs\n",
    "copie_valeurs = valeurs.copy()\n",
    "\n",
    "# Garder une référence vers le dataframe original\n",
    "ref_valeurs = valeurs"
   ]
  },
  {
   "cell_type": "code",
   "execution_count": null,
   "metadata": {},
   "outputs": [],
   "source": [
    "# Assign the value `0` to the first three rows of data in the DataFrame\n",
    "ref_valeurs['Market_Cap_USD'] = 0"
   ]
  },
  {
   "cell_type": "code",
   "execution_count": null,
   "metadata": {},
   "outputs": [],
   "source": [
    "valeurs.head()"
   ]
  },
  {
   "cell_type": "code",
   "execution_count": null,
   "metadata": {},
   "outputs": [],
   "source": [
    "copie_valeurs.head()"
   ]
  },
  {
   "cell_type": "code",
   "execution_count": null,
   "metadata": {},
   "outputs": [],
   "source": [
    "# Recharger les données à partir du fichier CSV\n",
    "valeurs = pd.read_csv(\"../data/valeurs.csv\")\n",
    "valeurs.head()"
   ]
  },
  {
   "cell_type": "markdown",
   "metadata": {},
   "source": [
    "### Faire une sélection selon des rangées et des colonnes\n",
    "On peut sélectionner un sous-ensemble de rangées et de colonnes avec l'attribut `loc`: c'est principalement basé sur les index de rangée et de colonne."
   ]
  },
  {
   "cell_type": "code",
   "execution_count": null,
   "metadata": {},
   "outputs": [],
   "source": [
    "# Qu'est-ce que cela donne?\n",
    "valeurs.loc[0, ['record_id', 'company_ID', 'Market_Cap_USD']]"
   ]
  },
  {
   "cell_type": "code",
   "execution_count": null,
   "metadata": {},
   "outputs": [],
   "source": [
    "# Sélectionner toutes les colonnes pour les rangées 0 et 10\n",
    "valeurs.loc[[0, 10], :]"
   ]
  },
  {
   "cell_type": "code",
   "execution_count": null,
   "metadata": {},
   "outputs": [],
   "source": [
    "# Qu'arrive-t-il si on exécute le code ci-dessous?\n",
    "valeurs.loc[[0, 10, 3081], :]"
   ]
  },
  {
   "cell_type": "markdown",
   "metadata": {},
   "source": [
    "### Exercise - Range\n",
    "What happens when you execute:"
   ]
  },
  {
   "cell_type": "code",
   "execution_count": null,
   "metadata": {},
   "outputs": [],
   "source": [
    "valeurs.loc[0:4, 1:4] # 'year':'company_ID'"
   ]
  },
  {
   "cell_type": "markdown",
   "metadata": {},
   "source": [
    "## Subsetting Data Using Criteria"
   ]
  },
  {
   "cell_type": "code",
   "execution_count": null,
   "metadata": {},
   "outputs": [],
   "source": [
    "surveys_df[surveys_df[\"year\"] == 2002]"
   ]
  },
  {
   "cell_type": "code",
   "execution_count": null,
   "metadata": {},
   "outputs": [],
   "source": [
    "surveys_df[surveys_df[\"year\"] != 2002]"
   ]
  },
  {
   "cell_type": "code",
   "execution_count": null,
   "metadata": {},
   "outputs": [],
   "source": [
    "surveys_df[(surveys_df[\"year\"] >= 1980) & (surveys_df[\"year\"] <= 1985)]"
   ]
  },
  {
   "cell_type": "markdown",
   "metadata": {
    "collapsed": true
   },
   "source": [
    "Use can use the syntax below when querying data from a DataFrame. Experiment with selecting various subsets of the \"surveys\" data.\n",
    "\n",
    "* Equals: `==`\n",
    "* Not equals: `!=`\n",
    "* Greater than, less than: `>` or `<`\n",
    "* Greater than or equal to `>=`\n",
    "* Less than or equal to `<=`"
   ]
  },
  {
   "cell_type": "markdown",
   "metadata": {},
   "source": [
    "### Exercises - Advanced Selection Challenges\n",
    "`1`. Select a subset of rows in the `surveys_df` DataFrame where the year is 1999 and the weight value is less than or equal to 8."
   ]
  },
  {
   "cell_type": "code",
   "execution_count": null,
   "metadata": {},
   "outputs": [],
   "source": [
    "surveys_df[(surveys_df[\"year\"] == 1999) & (surveys_df[\"weight\"] <= 8)]"
   ]
  },
  {
   "cell_type": "markdown",
   "metadata": {},
   "source": [
    "`2`. You can use the `isin` command in python to query a DataFrame based upon a list of values as follows:\n",
    "```\n",
    "surveys_df[surveys_df['species_id'].isin([listGoesHere])]\n",
    "```\n",
    "Use the `isin` function to find all sites that contain particular species (PB and PL) in the surveys DataFrame."
   ]
  },
  {
   "cell_type": "code",
   "execution_count": null,
   "metadata": {},
   "outputs": [],
   "source": [
    "surveys_df[surveys_df['species_id'].isin(['PB', 'PL'])]['plot_id'].unique()"
   ]
  },
  {
   "cell_type": "markdown",
   "metadata": {},
   "source": [
    "`3`. The `~` symbol in Python can be used to return the OPPOSITE of the selection that you specify in python. It is equivalent to **is not in**. Write a query that selects all rows that are NOT equal to ‘M’ or ‘F’ in the surveys data."
   ]
  },
  {
   "cell_type": "code",
   "execution_count": null,
   "metadata": {},
   "outputs": [],
   "source": [
    "surveys_df[~surveys_df[\"sex\"].isin(['M', 'F'])]"
   ]
  },
  {
   "cell_type": "markdown",
   "metadata": {},
   "source": [
    "## Using Masks"
   ]
  },
  {
   "cell_type": "code",
   "execution_count": null,
   "metadata": {},
   "outputs": [],
   "source": [
    "pd.isnull(surveys_df)"
   ]
  },
  {
   "cell_type": "code",
   "execution_count": null,
   "metadata": {},
   "outputs": [],
   "source": [
    "# To select just the rows with NaN values, we can use the .any method\n",
    "surveys_df[pd.isnull(surveys_df).any(axis=1)]"
   ]
  },
  {
   "cell_type": "code",
   "execution_count": null,
   "metadata": {},
   "outputs": [],
   "source": [
    "# What does this do?\n",
    "empty_weights = surveys_df[pd.isnull(surveys_df['weight'])]['weight']\n",
    "print(empty_weights)"
   ]
  },
  {
   "cell_type": "markdown",
   "metadata": {},
   "source": [
    "### Exercises - Removing NaN\n",
    "\n",
    "Create a new DataFrame that contains only observations that are of sex male or female and where weight values are greater than 0. Create a stacked bar plot of average weight by site with male vs female values stacked for each site."
   ]
  },
  {
   "cell_type": "code",
   "execution_count": null,
   "metadata": {},
   "outputs": [],
   "source": [
    "# make sure figures appear inline in Ipython Notebook\n",
    "%matplotlib inline\n",
    "\n",
    "# selection of the data with isin\n",
    "stack_selection = surveys_df[(surveys_df['sex'].isin(['M', 'F'])) & \n",
    "                            surveys_df[\"weight\"] > 0.][[\"weight\", \"plot_id\", \"sex\"]]\n",
    "\n",
    "# calculate the mean weight for each plot id and sex combination: \n",
    "stack_selection = stack_selection.groupby([\"plot_id\", \"sex\"]).mean().unstack()\n",
    "\n",
    "# The legend header contains two levels. In order to remove this, the column naming needs to be simplified : \n",
    "stack_selection.columns = stack_selection.columns.droplevel()\n",
    "\n",
    "# and we can make a stacked bar plot from this:\n",
    "stack_selection.plot(kind='bar', stacked=True)"
   ]
  },
  {
   "cell_type": "code",
   "execution_count": null,
   "metadata": {},
   "outputs": [],
   "source": []
  }
 ],
 "metadata": {
  "anaconda-cloud": {},
  "kernelspec": {
   "display_name": "Python 3",
   "language": "python",
   "name": "python3"
  },
  "language_info": {
   "codemirror_mode": {
    "name": "ipython",
    "version": 3
   },
   "file_extension": ".py",
   "mimetype": "text/x-python",
   "name": "python",
   "nbconvert_exporter": "python",
   "pygments_lexer": "ipython3",
   "version": "3.7.4"
  }
 },
 "nbformat": 4,
 "nbformat_minor": 1
}
