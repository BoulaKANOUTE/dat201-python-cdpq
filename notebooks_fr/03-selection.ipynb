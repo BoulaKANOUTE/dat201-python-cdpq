{
 "cells": [
  {
   "cell_type": "markdown",
   "metadata": {},
   "source": [
    "# Analyse et visualisation de données avec Python\n",
    "## Accéder à un sous-ensemble d'un DataFrames\n",
    "Questions\n",
    "* Comment accéder à des données spécifiques dans un dataframe?\n",
    "\n",
    "Objectifs\n",
    "* Utiliser les tranches pour sélectionner un intervalle de données.\n",
    "* Utiliser les étiquettes de rangées et les noms de colonnes pour délimiter une tranche.\n",
    "* Réassigner des valeurs à une sélection dans un dataframe.\n",
    "* Créer une copie d'un dataframe.\n",
    "* Effectuer une sélection en utilisant un critère contenant un opérateur: `=`, `!=`, `>`, `<`, `>=`, `<=`.\n",
    "* Manipuler les données avec des masques de valeurs booléennes."
   ]
  },
  {
   "cell_type": "markdown",
   "metadata": {},
   "source": [
    "## Charger nos données"
   ]
  },
  {
   "cell_type": "code",
   "execution_count": null,
   "metadata": {},
   "outputs": [],
   "source": [
    "# Charger le module pandas\n",
    "import pandas as pd\n",
    "\n",
    "# Charger les données\n",
    "valeurs = pd.read_csv(\"../data/valeurs.csv\")"
   ]
  },
  {
   "cell_type": "markdown",
   "metadata": {},
   "source": [
    "## *Indexing* et *Slicing* dans Python\n",
    "### Sélectionner des données en utilisant des noms de colonne"
   ]
  },
  {
   "cell_type": "code",
   "execution_count": null,
   "metadata": {},
   "outputs": [],
   "source": [
    "valeurs###"
   ]
  },
  {
   "cell_type": "code",
   "execution_count": null,
   "metadata": {},
   "outputs": [],
   "source": [
    "### = valeurs['company_ID']"
   ]
  },
  {
   "cell_type": "code",
   "execution_count": null,
   "metadata": {},
   "outputs": [],
   "source": [
    "# Sélectionner deux colonnes à l'aide d'une liste\n",
    "valeurs['company_ID'###]"
   ]
  },
  {
   "cell_type": "markdown",
   "metadata": {},
   "source": [
    "### Copier et référencer des objets dans Python"
   ]
  },
  {
   "cell_type": "code",
   "execution_count": null,
   "metadata": {},
   "outputs": [],
   "source": [
    "# Créer une copie du dataframe avec les mêmes valeurs\n",
    "copie_valeurs = valeurs###\n",
    "\n",
    "# Garder une référence vers le dataframe original\n",
    "###_valeurs = valeurs"
   ]
  },
  {
   "cell_type": "code",
   "execution_count": null,
   "metadata": {},
   "outputs": [],
   "source": [
    "# Écraser toute la colonne avec des zéros\n",
    "ref_valeurs['Market_Cap_USD']###"
   ]
  },
  {
   "cell_type": "code",
   "execution_count": null,
   "metadata": {},
   "outputs": [],
   "source": [
    "valeurs.head()"
   ]
  },
  {
   "cell_type": "code",
   "execution_count": null,
   "metadata": {},
   "outputs": [],
   "source": [
    "###_valeurs.head()"
   ]
  },
  {
   "cell_type": "code",
   "execution_count": null,
   "metadata": {},
   "outputs": [],
   "source": [
    "# Recharger les données à partir du fichier CSV\n",
    "valeurs = pd.read_csv(\"../data/valeurs.csv\")\n",
    "valeurs.head()"
   ]
  },
  {
   "cell_type": "markdown",
   "metadata": {},
   "source": [
    "### Faire une sélection selon des rangées et des colonnes\n",
    "On peut sélectionner un sous-ensemble de rangées et de colonnes avec l'attribut `loc`: c'est principalement basé sur les index de rangée et de colonne."
   ]
  },
  {
   "cell_type": "code",
   "execution_count": null,
   "metadata": {},
   "outputs": [],
   "source": [
    "# Qu'est-ce que cela donne?\n",
    "valeurs.###[###['record_id', 'company_ID', 'Market_Cap_USD']]"
   ]
  },
  {
   "cell_type": "code",
   "execution_count": null,
   "metadata": {},
   "outputs": [],
   "source": [
    "# Sélectionner toutes les colonnes pour les rangées 0 et 10\n",
    "valeurs.###[###, ###]"
   ]
  },
  {
   "cell_type": "code",
   "execution_count": null,
   "metadata": {},
   "outputs": [],
   "source": [
    "# Qu'arrive-t-il si on exécute le code ci-dessous?\n",
    "valeurs.loc[[0, 10, 3082], :]"
   ]
  },
  {
   "cell_type": "markdown",
   "metadata": {},
   "source": [
    "### Exercice - Un intervalle\n",
    "Qu'est-ce qui arrive si on exécute :"
   ]
  },
  {
   "cell_type": "code",
   "execution_count": null,
   "metadata": {},
   "outputs": [],
   "source": [
    "valeurs.loc[0:4, 1:4] # 'year':'company_ID'"
   ]
  },
  {
   "cell_type": "markdown",
   "metadata": {},
   "source": [
    "## Sélection par des critères"
   ]
  },
  {
   "cell_type": "code",
   "execution_count": null,
   "metadata": {},
   "outputs": [],
   "source": [
    "valeurs['year']###"
   ]
  },
  {
   "cell_type": "code",
   "execution_count": null,
   "metadata": {},
   "outputs": [],
   "source": [
    "valeurs[valeurs['year'] ###]"
   ]
  },
  {
   "cell_type": "code",
   "execution_count": null,
   "metadata": {},
   "outputs": [],
   "source": [
    "valeurs[(valeurs['year'] ### ### (valeurs['Assets_to_Equity'] ###]"
   ]
  },
  {
   "cell_type": "markdown",
   "metadata": {
    "collapsed": true
   },
   "source": [
    "Voici quelques opérateurs de comparaison que vous pouvez essayer :\n",
    "\n",
    "* Égal : `==`\n",
    "* Pas égal : `!=`\n",
    "* Plus grand que, plus petit que : `>` or `<`\n",
    "* Plus grand ou égal à `>=`\n",
    "* Plus petit ou égal à `<=`"
   ]
  },
  {
   "cell_type": "markdown",
   "metadata": {},
   "source": [
    "### Exercices - Sélections avancées\n",
    "`1`. Vous pouvez utiliser la méthode `isin()` pour aller chercher les enregistrements dont les valeurs d'une colonne correspondent à l'une des valeurs fournies dans une liste. Par exemple:\n",
    "```\n",
    "valeurs[valeurs['company_ID'].isin([12345, 789123, 65432])]\n",
    "```"
   ]
  },
  {
   "cell_type": "markdown",
   "metadata": {},
   "source": [
    "Utilisez la méthode `isin()` pour trouver tous les `company_ID` ayant eu au moins un `Total_Return_USD` supérieur à 0.1 au cours du dernier mois de chaque saison, soit mars, juin, septembre et décembre."
   ]
  },
  {
   "cell_type": "code",
   "execution_count": null,
   "metadata": {},
   "outputs": [],
   "source": [
    "valeurs[valeurs[###].isin(###) & (valeurs['Total_Return_USD'] ###]['company_ID']###"
   ]
  },
  {
   "cell_type": "markdown",
   "metadata": {},
   "source": [
    "`2`. Le symbole `~` peut être utilisé pour retourner l'opposé d'une sélection. C'est l'équivalent de \"**n'est pas**\". Écrivez une requête sélectionnant tous les enregistrements ne contenant ni `low_leverage`, ni `high_leverage`."
   ]
  },
  {
   "cell_type": "code",
   "execution_count": null,
   "metadata": {},
   "outputs": [],
   "source": [
    "valeurs[###valeurs['leverage_category'].###(['low_leverage', 'high_leverage'])]"
   ]
  },
  {
   "cell_type": "markdown",
   "metadata": {},
   "source": [
    "### Sélection selon les valeurs non définies"
   ]
  },
  {
   "cell_type": "code",
   "execution_count": null,
   "metadata": {},
   "outputs": [],
   "source": [
    "###(valeurs)"
   ]
  },
  {
   "cell_type": "code",
   "execution_count": null,
   "metadata": {},
   "outputs": [],
   "source": [
    "# Pour sélectionner les enregistrements ayant au moins une valeur NaN\n",
    "valeurs[pd.isnull(valeurs)###]"
   ]
  },
  {
   "cell_type": "code",
   "execution_count": null,
   "metadata": {},
   "outputs": [],
   "source": [
    "# Qu'est-ce que le code suivant va retourner?\n",
    "une_selection = valeurs[pd.isnull(valeurs['Total_Return_USD'])]['Total_Return_USD']\n",
    "#print(une_selection)"
   ]
  },
  {
   "cell_type": "markdown",
   "metadata": {},
   "source": [
    "### Exercice - Enlever les NaN\n",
    "Créez une sélection contenant seulement les enregistrements ayant une valeur `leverage_category` non-nulle et ayant un `Market_Cap_USD` supérieur ou égal à 200000. Créez un graphique de barres empilées (\"stacked bar-plot\") montrant le nombre d'enregistrements à chaque année pour chaque compagnie."
   ]
  },
  {
   "cell_type": "code",
   "execution_count": null,
   "metadata": {},
   "outputs": [],
   "source": [
    "# Sélection des enregistrements et des colonnes nécessaires\n",
    "lev200k = valeurs[###][['record_id', 'company_ID', 'year']]"
   ]
  },
  {
   "cell_type": "code",
   "execution_count": null,
   "metadata": {},
   "outputs": [],
   "source": [
    "# Grouper selon les compagnies et les années, compter les record_id\n",
    "lev200k = lev200k.###(['company_ID', 'year'###).###().unstack()"
   ]
  },
  {
   "cell_type": "code",
   "execution_count": null,
   "metadata": {},
   "outputs": [],
   "source": [
    "# Simplification du nom des colonnes dans la légende\n",
    "lev200k.columns = lev200k.columns.droplevel()\n",
    "\n",
    "# Créer le stacked bar plot:\n",
    "lev200k.###(kind=###, stacked=###)"
   ]
  },
  {
   "cell_type": "code",
   "execution_count": null,
   "metadata": {},
   "outputs": [],
   "source": []
  }
 ],
 "metadata": {
  "anaconda-cloud": {},
  "kernelspec": {
   "display_name": "Python 3",
   "language": "python",
   "name": "python3"
  },
  "language_info": {
   "codemirror_mode": {
    "name": "ipython",
    "version": 3
   },
   "file_extension": ".py",
   "mimetype": "text/x-python",
   "name": "python",
   "nbconvert_exporter": "python",
   "pygments_lexer": "ipython3",
   "version": "3.7.4"
  }
 },
 "nbformat": 4,
 "nbformat_minor": 1
}
