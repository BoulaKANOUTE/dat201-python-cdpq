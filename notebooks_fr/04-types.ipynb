{
 "cells": [
  {
   "cell_type": "markdown",
   "metadata": {},
   "source": [
    "# Analyse et visualisation de données avec Python\n",
    "## Types de données et formats\n",
    "Questions\n",
    "* Quels sont les types de données dans un DataFrame?\n",
    "* Pourquoi est-ce que le type de données est important?\n",
    "\n",
    "Objectifs\n",
    "* Connaître les deux principaux types de données dans Python : texte et numérique.\n",
    "* Examiner les différents types dans un DataFrame.\n",
    "* Modifier le format des valeurs dans un DataFrame.\n",
    "* Décrire comment le type de données peut affecter les opérations.\n",
    "* Convertir d'un type à l'autre.\n",
    "* Gérer les valeurs nulles (NaN), les transformer.\n",
    "* Écrire les données manipulées dans un fichier CSV."
   ]
  },
  {
   "cell_type": "markdown",
   "metadata": {},
   "source": [
    "## Charger nos données"
   ]
  },
  {
   "cell_type": "code",
   "execution_count": null,
   "metadata": {},
   "outputs": [],
   "source": [
    "# Charger le module pandas\n",
    "import pandas as pd\n",
    "\n",
    "# Charger les données\n",
    "valeurs = pd.read_csv(\"../data/valeurs.csv\")"
   ]
  },
  {
   "cell_type": "markdown",
   "metadata": {},
   "source": [
    "## Types de données\n",
    "### Vérifier le type de données pour chaque colonne"
   ]
  },
  {
   "cell_type": "code",
   "execution_count": null,
   "metadata": {},
   "outputs": [],
   "source": [
    "valeurs['month']###"
   ]
  },
  {
   "cell_type": "code",
   "execution_count": null,
   "metadata": {},
   "outputs": [],
   "source": [
    "valeurs###"
   ]
  },
  {
   "cell_type": "markdown",
   "metadata": {},
   "source": [
    "Types Python | Types Pandas | Description\n",
    ":-----------:|:------------:|:-----------\n",
    "`str`        | `object`    | Le type le plus générique, utilisé si une colonne a un mélange de types\n",
    "`int`        | `int64`     | Entiers de 64 bits\n",
    "`float`      | `float64`   | Valeurs numériques avec décimales, ou avec des NaN\n",
    " N/A         | `datetime64`| Valeurs de temps ou de dates"
   ]
  },
  {
   "cell_type": "markdown",
   "metadata": {},
   "source": [
    "## Manipuler nos données"
   ]
  },
  {
   "cell_type": "code",
   "execution_count": null,
   "metadata": {},
   "outputs": [],
   "source": [
    "### valeurs['month']###\n",
    "valeurs['month'].###"
   ]
  },
  {
   "cell_type": "code",
   "execution_count": null,
   "metadata": {},
   "outputs": [],
   "source": [
    "valeurs['month'].###()"
   ]
  },
  {
   "cell_type": "code",
   "execution_count": null,
   "metadata": {},
   "outputs": [],
   "source": [
    "valeurs[###].describe()"
   ]
  },
  {
   "cell_type": "markdown",
   "metadata": {},
   "source": [
    "### Exercice - Modifier les types\n",
    "Essayez de convertir la colonne `day` au type Python `float`. Ensuite, essayez de convertir `Market_Cap_USD` en entiers `int64`."
   ]
  },
  {
   "cell_type": "code",
   "execution_count": null,
   "metadata": {},
   "outputs": [],
   "source": [
    "valeurs[###].###(###)"
   ]
  },
  {
   "cell_type": "code",
   "execution_count": null,
   "metadata": {},
   "outputs": [],
   "source": [
    "# Qu'arrive-t-il si on essaie de convertir les Market_Cap_USD en int64?\n",
    "valeurs['Market_Cap_USD'].###(###)"
   ]
  },
  {
   "cell_type": "markdown",
   "metadata": {},
   "source": [
    "## Recréer des données manquantes"
   ]
  },
  {
   "cell_type": "code",
   "execution_count": null,
   "metadata": {},
   "outputs": [],
   "source": [
    "print(valeurs['Market_Cap_USD'].###(), valeurs['Market_Cap_USD'].###())"
   ]
  },
  {
   "cell_type": "code",
   "execution_count": null,
   "metadata": {},
   "outputs": [],
   "source": [
    "### = valeurs.###()"
   ]
  },
  {
   "cell_type": "code",
   "execution_count": null,
   "metadata": {},
   "outputs": [],
   "source": [
    "# Pour une valeur moyenne stable\n",
    "moyenneMC = df1['Market_Cap_USD'].###()\n",
    "df1['Market_Cap_USD'] = df1['Market_Cap_USD'].###(###)"
   ]
  },
  {
   "cell_type": "code",
   "execution_count": null,
   "metadata": {},
   "outputs": [],
   "source": [
    "print(###['Market_Cap_USD'].count(), ###['Market_Cap_USD'].mean())"
   ]
  },
  {
   "cell_type": "markdown",
   "metadata": {
    "collapsed": true
   },
   "source": [
    "## Sauvegarder un DataFrame dans un fichier CSV"
   ]
  },
  {
   "cell_type": "code",
   "execution_count": null,
   "metadata": {},
   "outputs": [],
   "source": [
    "aucun_nan = valeurs.###()\n",
    "aucun_nan"
   ]
  },
  {
   "cell_type": "code",
   "execution_count": null,
   "metadata": {},
   "outputs": [],
   "source": [
    "aucun_nan.###('valeurs_completes.###', ###)"
   ]
  },
  {
   "cell_type": "code",
   "execution_count": null,
   "metadata": {},
   "outputs": [],
   "source": []
  }
 ],
 "metadata": {
  "anaconda-cloud": {},
  "kernelspec": {
   "display_name": "Python 3",
   "language": "python",
   "name": "python3"
  },
  "language_info": {
   "codemirror_mode": {
    "name": "ipython",
    "version": 3
   },
   "file_extension": ".py",
   "mimetype": "text/x-python",
   "name": "python",
   "nbconvert_exporter": "python",
   "pygments_lexer": "ipython3",
   "version": "3.7.4"
  }
 },
 "nbformat": 4,
 "nbformat_minor": 1
}
