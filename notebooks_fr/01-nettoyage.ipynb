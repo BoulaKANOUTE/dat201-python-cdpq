{
 "cells": [
  {
   "cell_type": "markdown",
   "metadata": {},
   "source": [
    "## Nettoyage des données avec Pandas\n",
    "Avant toute analyse de données, le nettoyage des données est fort important. En effet, des données dans un mauvais format ou contenant des erreurs peuvent affecter la procédure d'analyse et les résultats finaux.\n",
    "\n",
    "Dans cet atelier, nous allons utiliser des données publiques concernant des compagnies et leurs valeurs de marché au cours du temps. Voici une description :"
   ]
  },
  {
   "cell_type": "markdown",
   "metadata": {},
   "source": [
    "* Les données de base pour les compagnies ressemblent à (voir le fichier `compagnies_raw.csv`) :\n",
    "```\n",
    ";company_ID;company_Name;country;sector_GICS;sector_GICS_name;economc_sector;cyclic_ind\n",
    "0;001078;Abbott Laboratories;USA;35;Health Care;CONSOMMATION;False\n",
    "1;001300;Honeywell International Inc;USA;20;Industrials;INDUSTRIELLES;True\n",
    "2;001447;American Express Co;USA;40;Financials;SENSIBLE AUX TAUX;False\n",
    "3;001602;Amgen Inc;USA;35;Health Care;CONSOMMATION;False\n",
    "...\n",
    "```\n",
    "Les données tabulaires sont séparées par des point-virgules (`;`), ce qui n'est pas très courant pour un fichier CSV (Comma Separated Values). De même, étant donné que chaque compagnie a un identifiant unique, la première colonne anonyme, soit l'index générique de la table, est superflue."
   ]
  },
  {
   "cell_type": "markdown",
   "metadata": {},
   "source": [
    "* De même, les valeurs de marché selon le temps ressemblent à (voir le fichier `valeurs_raw.csv`) :\n",
    "```\n",
    ";year;month;day;company_ID;company_Name;Market_Cap_USD;Total_Return_USD;...\n",
    "0;2015;4;30;001078;Abbott Laboratories;70046,75876000001;0,007122814590977855;...\n",
    "...\n",
    "```\n",
    "L'ensemble des colonnes sont :\n",
    " * (anonyme)\n",
    " * year\n",
    " * month\n",
    " * day\n",
    " * company_ID\n",
    " * **company_Name**\n",
    " * Market_Cap_USD\n",
    " * Total_Return_USD\n",
    " * BETA_60M_ACWI\n",
    " * volatility_60_days\n",
    " * Assets_to_Equity\n",
    " * Net_debt_to_EBITDA\n",
    " * Fixed_Assets_to_Assets\n",
    " * Cash_to_assets\n",
    " * ROA_2y\n",
    " * ROE_2y\n",
    " * 2y_avg_12M_earnings\n",
    " * FX_RATE_TO_USD\n",
    " * leverage_category\n",
    "\n",
    " Les données tabulaires sont aussi séparées par des point-virgules (`;`). De plus, les valeurs décimales utilisent des virgules (`,`) au lieu de points (`.`). Or, Python utilise le point pour séparer les valeurs entières des décimales. La colonne `company_Name` est redondante, car seul l'identifiant `company_ID` est nécessaire pour retrouver les informations d'une compagnie. Enfin, la colonne anonyme sera renommée pour identifier uniquement chaque rangée."
   ]
  },
  {
   "cell_type": "markdown",
   "metadata": {},
   "source": [
    "Bref, la première étape consiste à charger le module Pandas :"
   ]
  },
  {
   "cell_type": "code",
   "execution_count": null,
   "metadata": {},
   "outputs": [],
   "source": [
    "import pandas as pd"
   ]
  },
  {
   "cell_type": "markdown",
   "metadata": {},
   "source": [
    "### Charger le fichier des compagnies et nettoyer les données"
   ]
  },
  {
   "cell_type": "code",
   "execution_count": null,
   "metadata": {},
   "outputs": [],
   "source": [
    "compagnies = pd.read_csv(\"../data/compagnies_raw.csv\", sep=';')\n",
    "compagnies.head()"
   ]
  },
  {
   "cell_type": "code",
   "execution_count": null,
   "metadata": {},
   "outputs": [],
   "source": [
    "compagnies.drop(columns='Unnamed: 0', inplace=True)\n",
    "compagnies.head()"
   ]
  },
  {
   "cell_type": "code",
   "execution_count": null,
   "metadata": {},
   "outputs": [],
   "source": [
    "compagnies.to_csv(\"../data/compagnies.csv\", index=False)"
   ]
  },
  {
   "cell_type": "markdown",
   "metadata": {},
   "source": [
    "### Charger les valeurs de marché et nettoyer les données"
   ]
  },
  {
   "cell_type": "code",
   "execution_count": null,
   "metadata": {},
   "outputs": [],
   "source": [
    "valeurs = pd.read_csv(\"../data/valeurs_raw.csv\", sep=';')\n",
    "valeurs.head()"
   ]
  },
  {
   "cell_type": "code",
   "execution_count": null,
   "metadata": {},
   "outputs": [],
   "source": [
    "valeurs.dtypes"
   ]
  },
  {
   "cell_type": "code",
   "execution_count": null,
   "metadata": {},
   "outputs": [],
   "source": [
    "valeurs = pd.read_csv(\"../data/valeurs_raw.csv\", sep=';', decimal=',')\n",
    "valeurs.dtypes"
   ]
  },
  {
   "cell_type": "code",
   "execution_count": null,
   "metadata": {},
   "outputs": [],
   "source": [
    "valeurs.head()"
   ]
  },
  {
   "cell_type": "code",
   "execution_count": null,
   "metadata": {},
   "outputs": [],
   "source": [
    "valeurs.drop(columns = 'company_Name', inplace=True)\n",
    "valeurs.columns"
   ]
  },
  {
   "cell_type": "code",
   "execution_count": null,
   "metadata": {},
   "outputs": [],
   "source": [
    "valeurs.rename(columns={'Unnamed: 0':'record_id'}, inplace=True)\n",
    "valeurs.head()"
   ]
  },
  {
   "cell_type": "code",
   "execution_count": null,
   "metadata": {},
   "outputs": [],
   "source": [
    "valeurs.to_csv(\"../data/valeurs.csv\", index=False)"
   ]
  },
  {
   "cell_type": "code",
   "execution_count": null,
   "metadata": {},
   "outputs": [],
   "source": []
  }
 ],
 "metadata": {
  "kernelspec": {
   "display_name": "Python 3",
   "language": "python",
   "name": "python3"
  },
  "language_info": {
   "codemirror_mode": {
    "name": "ipython",
    "version": 3
   },
   "file_extension": ".py",
   "mimetype": "text/x-python",
   "name": "python",
   "nbconvert_exporter": "python",
   "pygments_lexer": "ipython3",
   "version": "3.7.4"
  }
 },
 "nbformat": 4,
 "nbformat_minor": 2
}
