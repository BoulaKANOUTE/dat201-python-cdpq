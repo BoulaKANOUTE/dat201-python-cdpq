{
 "cells": [
  {
   "cell_type": "markdown",
   "metadata": {},
   "source": [
    "# Analyse et visualisation de données avec Python\n",
    "## Matplotlib et Pandas\n",
    "Questions\n",
    "* Que devrait-on connaître à propos de Matplotlib dans le cadre d'une utilisation avec Pandas?\n",
    "\n",
    "Objectifs\n",
    "* Importer le module `pyplot` pour créer des figures dans Python.\n",
    "* Utiliser `matplotlib` pour ajuster des graphiques créés par Pandas et Plotnine."
   ]
  },
  {
   "cell_type": "markdown",
   "metadata": {},
   "source": [
    "## Charger nos données"
   ]
  },
  {
   "cell_type": "code",
   "execution_count": null,
   "metadata": {},
   "outputs": [],
   "source": [
    "# Charger le module pandas\n",
    "import pandas as pd\n",
    "\n",
    "# Charger les données\n",
    "valeurs = pd.read_csv(\"../data/valeurs.csv\")\n",
    "valeurs = valeurs[(valeurs['Assets_to_Equity'] > 0) &\n",
    "                  (valeurs['Assets_to_Equity'] < 100)]"
   ]
  },
  {
   "cell_type": "markdown",
   "metadata": {},
   "source": [
    "## Module `matplotlib`\n",
    "La galerie de figures Matplotlib est une bonne source d'inspiration et d'aide (http://matplotlib.org/gallery.html). Cette galerie inclut différents styles et codes sources pour les créer."
   ]
  },
  {
   "cell_type": "code",
   "execution_count": null,
   "metadata": {},
   "outputs": [],
   "source": [
    "import matplotlib.pyplot as plt"
   ]
  },
  {
   "cell_type": "markdown",
   "metadata": {},
   "source": [
    "### Link matplotlib, Pandas and plotnine"
   ]
  },
  {
   "cell_type": "code",
   "execution_count": null,
   "metadata": {},
   "outputs": [],
   "source": [
    "import plotnine as p9\n",
    "import warnings\n",
    "warnings.simplefilter(action='ignore', category=FutureWarning)\n",
    "warnings.simplefilter(action='ignore', category=UserWarning)"
   ]
  },
  {
   "cell_type": "code",
   "execution_count": null,
   "metadata": {},
   "outputs": [],
   "source": [
    "my_plot = valeurs.plot('Market_Cap_USD', 'Assets_to_Equity', kind=\"scatter\")\n",
    "plt.show() # Optionnel dans Jupyter"
   ]
  },
  {
   "cell_type": "code",
   "execution_count": null,
   "metadata": {},
   "outputs": [],
   "source": [
    "fig, ax1 = plt.subplots() # Préparer une figure Matplotlib\n",
    "\n",
    "valeurs.plot('Market_Cap_USD', 'Assets_to_Equity', kind=\"scatter\", ax=ax1)\n",
    "\n",
    "# Modifier le graphique via Matplotlib\n",
    "ax1.set_xlabel(\"Capitalisation du marché (USD)\")\n",
    "ax1.tick_params(labelsize=16, pad=8)\n",
    "fig.suptitle(\"Actif à l'équité selon la capitalisation du marché\", fontsize=15)\n",
    "\n",
    "plt.show() # Optionnel dans Jupyter"
   ]
  },
  {
   "cell_type": "markdown",
   "metadata": {},
   "source": [
    "To retrieve the matplotlib figure object from plotnine for customization, use the `draw()` function in plotnine:"
   ]
  },
  {
   "cell_type": "code",
   "execution_count": null,
   "metadata": {},
   "outputs": [],
   "source": [
    "myplot = (p9.ggplot(data=valeurs,\n",
    "                    mapping=p9.aes(x='Market_Cap_USD', y='Assets_to_Equity'))\n",
    "          + p9.geom_point(alpha=0.1))\n",
    "\n",
    "# Convertir la sortie de Plotnine en objet Matplotlib\n",
    "my_plt_version = myplot.draw()\n",
    "p9_ax = my_plt_version.axes[0] # Chaque subplot est un item dans une liste\n",
    "\n",
    "# Modifier le graphique via Matplotlib\n",
    "p9_ax.set_xlabel(\"Capitalisation du marché (USD)\")\n",
    "p9_ax.tick_params(labelsize=16, pad=8)\n",
    "p9_ax.set_title(\"Actif à l'équité selon la capitalisation du marché\", fontsize=15)\n",
    "\n",
    "plt.show() # Optionnel dans Jupyter"
   ]
  },
  {
   "cell_type": "markdown",
   "metadata": {},
   "source": [
    "### Sauvegarder une figure Matplotlib"
   ]
  },
  {
   "cell_type": "code",
   "execution_count": null,
   "metadata": {},
   "outputs": [],
   "source": [
    "fig.savefig(\"my_plot_name.png\")"
   ]
  },
  {
   "cell_type": "markdown",
   "metadata": {},
   "source": [
    "### Exercice - Sauvegarder une figure\n",
    "Sauvegardez en format `pdf` à 300 dpi"
   ]
  },
  {
   "cell_type": "code",
   "execution_count": null,
   "metadata": {},
   "outputs": [],
   "source": [
    "fig.savefig(\"my_plot_name.pdf\", dpi=300)"
   ]
  },
  {
   "cell_type": "markdown",
   "metadata": {},
   "source": [
    "## Pour d'autres types de graphiques\n",
    "http://matplotlib.org/users/screenshots.html"
   ]
  },
  {
   "cell_type": "code",
   "execution_count": null,
   "metadata": {},
   "outputs": [],
   "source": []
  }
 ],
 "metadata": {
  "anaconda-cloud": {},
  "kernelspec": {
   "display_name": "Python 3",
   "language": "python",
   "name": "python3"
  },
  "language_info": {
   "codemirror_mode": {
    "name": "ipython",
    "version": 3
   },
   "file_extension": ".py",
   "mimetype": "text/x-python",
   "name": "python",
   "nbconvert_exporter": "python",
   "pygments_lexer": "ipython3",
   "version": "3.7.4"
  }
 },
 "nbformat": 4,
 "nbformat_minor": 1
}
