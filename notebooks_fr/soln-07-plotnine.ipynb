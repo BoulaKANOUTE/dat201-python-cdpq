{
 "cells": [
  {
   "cell_type": "markdown",
   "metadata": {},
   "source": [
    "# Analyse et visualisation de données avec Python\n",
    "## Créer des graphiques avec Plotnine\n",
    "Questions\n",
    "* Comment faire davantage de visualisation en Python?\n",
    "* Qu'est-ce que la \"grammaire des graphiques\"?\n",
    "\n",
    "Objectifs\n",
    "* Créer un objet `plotnine`.\n",
    "* Configurer certains options globales.\n",
    "* Modifier l'apparence du graphique, comme les couleurs.\n",
    "* Éditer le nom des axes.\n",
    "* Créer des graphiques plus élaborés, étape par étape.\n",
    "* Créer différents types de graphiques.\n",
    "* Utiliser `facet_wrap` et `facet_grid` pour créer des graphiques selon des variables de type \"factor\"."
   ]
  },
  {
   "cell_type": "code",
   "execution_count": null,
   "metadata": {},
   "outputs": [],
   "source": [
    "# Désactiver quelques avertissements bénins\n",
    "import warnings\n",
    "warnings.simplefilter(action='ignore', category=FutureWarning)\n",
    "warnings.simplefilter(action='ignore', category=UserWarning)"
   ]
  },
  {
   "cell_type": "markdown",
   "metadata": {},
   "source": [
    "## Pourquoi `plotnine`? Pourquoi pas `matplotlib`?\n",
    "Bien que `matplotlib` soit un module de visualisation largement répandu, très flexible et puissant, son utilisation est parfois compliquée. Pour ce chapitre, nous allons utiliser le module `plotnine` qui facilite la création de graphiques hautement informatifs tout en s'intégrant bien avec Pandas. Le fonctionnement de `plotnine` se base sur le module R `ggplot2` et [The Grammar of Graphics](https://link.springer.com/book/10.1007%2F0-387-28695-0) par Leland Wilkinson."
   ]
  },
  {
   "cell_type": "code",
   "execution_count": null,
   "metadata": {},
   "outputs": [],
   "source": [
    "# Si plotnine n'est pas installé:\n",
    "#   conda install -c conda-forge plotnine  # OU...\n",
    "#   pip install plotnine\n",
    "import plotnine as p9"
   ]
  },
  {
   "cell_type": "code",
   "execution_count": null,
   "metadata": {},
   "outputs": [],
   "source": [
    "import pandas as pd\n",
    "\n",
    "# Charger et nettoyer les données\n",
    "valeurs = pd.read_csv('../data/valeurs.csv').dropna()\n",
    "valeurs = valeurs[(valeurs['Assets_to_Equity'] > 0) &\n",
    "                  (valeurs['Assets_to_Equity'] < 100)]"
   ]
  },
  {
   "cell_type": "markdown",
   "metadata": {},
   "source": [
    "## Créer des graphiques avec `plotnine`"
   ]
  },
  {
   "cell_type": "markdown",
   "metadata": {},
   "source": [
    "Les graphiques `plotnine` sont construits étape par étape en ajoutant différents éléments aux autres en utilisant l'opérateur `+`. La somme de ces étapes doit être dans des parenthèses pour une meilleure compatibilité avec la syntaxe Python."
   ]
  },
  {
   "cell_type": "code",
   "execution_count": null,
   "metadata": {},
   "outputs": [],
   "source": [
    "# Pas de panique! C'est normal que le graphique soit vide\n",
    "(p9.ggplot(data=valeurs))"
   ]
  },
  {
   "cell_type": "markdown",
   "metadata": {
    "scrolled": true
   },
   "source": [
    "* Définir les \"aesthetics\" (ou `aes`) du graphique en sélectionant les variables du DataFrame qui seront \"mappées\" (via `mapping`) à divers éléments du graphiques. Les plus importants paramètres de `aes` sont : `x`, `y`, `alpha`, `color`, `colour`, `fill`, `linetype`, `shape`, `size` et `stroke`."
   ]
  },
  {
   "cell_type": "code",
   "execution_count": null,
   "metadata": {},
   "outputs": [],
   "source": [
    "# Ajout des axes. Patience, les données s'en viennent!\n",
    "(p9.ggplot(data=valeurs,\n",
    "           mapping=p9.aes(x='Market_Cap_USD', y='Assets_to_Equity')))"
   ]
  },
  {
   "cell_type": "markdown",
   "metadata": {},
   "source": [
    "* Les données s'affichent à l'aide d'objets `geom_*` que l'on peut ajouter à l'aide de l'opérateur `+`."
   ]
  },
  {
   "cell_type": "code",
   "execution_count": null,
   "metadata": {},
   "outputs": [],
   "source": [
    "(p9.ggplot(data=valeurs,\n",
    "           mapping=p9.aes(x='Market_Cap_USD', y='Assets_to_Equity'))\n",
    "    + p9.geom_point()\n",
    ")"
   ]
  },
  {
   "cell_type": "markdown",
   "metadata": {},
   "source": [
    "* Vous pouvez facilement créer des gabarits et les réutiliser avec différentes représentations des données."
   ]
  },
  {
   "cell_type": "code",
   "execution_count": null,
   "metadata": {},
   "outputs": [],
   "source": [
    "# Créer\n",
    "valeurs_plot = p9.ggplot(data=valeurs,\n",
    "                         mapping=p9.aes(x='Market_Cap_USD', y='Assets_to_Equity'))\n",
    "\n",
    "# Afficher les points\n",
    "valeurs_plot + p9.geom_point()"
   ]
  },
  {
   "cell_type": "markdown",
   "metadata": {},
   "source": [
    "* Après la création du graphiques, c'est possible de le sauvegarder dans le formation de notre choix."
   ]
  },
  {
   "cell_type": "code",
   "execution_count": null,
   "metadata": {},
   "outputs": [],
   "source": [
    "graphique = valeurs_plot + p9.geom_point()\n",
    "\n",
    "graphique.save(\"scatterplot.png\", width=4, height=3, dpi=300)"
   ]
  },
  {
   "cell_type": "markdown",
   "metadata": {
    "collapsed": true
   },
   "source": [
    "### Exercises - bar chart\n",
    "En utilisant les enregistrements pour lesquels `Total_Return_USD` est supérieur à 0.1, utilisez la colonne `month` pour générer un `bar` plot montrant le nombre d'enregistrements pour chaque mois."
   ]
  },
  {
   "cell_type": "code",
   "execution_count": null,
   "metadata": {
    "scrolled": false
   },
   "outputs": [],
   "source": [
    "(p9.ggplot(data=valeurs[valeurs['Total_Return_USD'] > 0.1],\n",
    "           mapping=p9.aes(x='month'))\n",
    "    + p9.geom_bar()\n",
    ")"
   ]
  },
  {
   "cell_type": "markdown",
   "metadata": {},
   "source": [
    "## Construire un graphique par itérations\n",
    "* Habituellement, `data`, `aes` et `geom-*` sont les éléments de base de tout graphique:"
   ]
  },
  {
   "cell_type": "code",
   "execution_count": null,
   "metadata": {},
   "outputs": [],
   "source": [
    "(p9.ggplot(data=valeurs,\n",
    "           mapping=p9.aes(x='Market_Cap_USD', y='Assets_to_Equity'))\n",
    "    + p9.geom_point()\n",
    ")"
   ]
  },
  {
   "cell_type": "markdown",
   "metadata": {},
   "source": [
    "* Ensuite, on commence à modifier le graphique pour en extraire davantage d'information. Par exemple, avec de la transparence (alpha) :"
   ]
  },
  {
   "cell_type": "code",
   "execution_count": null,
   "metadata": {},
   "outputs": [],
   "source": [
    "(p9.ggplot(data=valeurs,\n",
    "           mapping=p9.aes(x='Market_Cap_USD', y='Assets_to_Equity'))\n",
    "    + p9.geom_point(alpha=0.1)\n",
    ")"
   ]
  },
  {
   "cell_type": "markdown",
   "metadata": {},
   "source": [
    "* Une couleur différente :"
   ]
  },
  {
   "cell_type": "code",
   "execution_count": null,
   "metadata": {},
   "outputs": [],
   "source": [
    "(p9.ggplot(data=valeurs,\n",
    "           mapping=p9.aes(x='Market_Cap_USD', y='Assets_to_Equity'))\n",
    "    + p9.geom_point(alpha=0.1, color='blue')\n",
    ")"
   ]
  },
  {
   "cell_type": "markdown",
   "metadata": {},
   "source": [
    "* Une couleur pour chaque type de \"leverage\"; il faut \"mapper\" la variable `leverage_category` à l'`aes` `color` :"
   ]
  },
  {
   "cell_type": "code",
   "execution_count": null,
   "metadata": {},
   "outputs": [],
   "source": [
    "(p9.ggplot(data=valeurs,\n",
    "           mapping=p9.aes(x='Market_Cap_USD', y='Assets_to_Equity',\n",
    "                          color='leverage_category'))\n",
    "    + p9.geom_point(alpha=0.1)\n",
    ")"
   ]
  },
  {
   "cell_type": "markdown",
   "metadata": {},
   "source": [
    "* Modifier le nom des axes :"
   ]
  },
  {
   "cell_type": "code",
   "execution_count": null,
   "metadata": {},
   "outputs": [],
   "source": [
    "(p9.ggplot(data=valeurs,\n",
    "           mapping=p9.aes(x='Market_Cap_USD', y='Assets_to_Equity',\n",
    "                          color='leverage_category'))\n",
    "    + p9.geom_point(alpha=0.1)\n",
    "    + p9.xlab(\"Capitalisation du marché (USD)\") + p9.ylab(\"Actif à l'équité\")\n",
    ")"
   ]
  },
  {
   "cell_type": "markdown",
   "metadata": {},
   "source": [
    "* Utiliser des axes semi-log :"
   ]
  },
  {
   "cell_type": "code",
   "execution_count": null,
   "metadata": {},
   "outputs": [],
   "source": [
    "(p9.ggplot(data=valeurs,\n",
    "           mapping=p9.aes(x='Market_Cap_USD', y='Assets_to_Equity',\n",
    "                          color='leverage_category'))\n",
    "    + p9.geom_point(alpha=0.1)\n",
    "    + p9.xlab(\"Capitalisation du marché (USD)\") + p9.ylab(\"Actif à l'équité\")\n",
    "    + p9.scale_y_log10()\n",
    ")"
   ]
  },
  {
   "cell_type": "markdown",
   "metadata": {},
   "source": [
    "* Changer le thème (`theme_*`) ou des éléments spécifiques du thème. Par exemple, pour avoir un arrière-plan en noir et blans, on utiliserait `theme_bw()` :"
   ]
  },
  {
   "cell_type": "code",
   "execution_count": null,
   "metadata": {},
   "outputs": [],
   "source": [
    "(p9.ggplot(data=valeurs,\n",
    "           mapping=p9.aes(x='Market_Cap_USD', y='Assets_to_Equity',\n",
    "                          color='leverage_category'))\n",
    "    + p9.geom_point(alpha=0.1)\n",
    "    + p9.xlab(\"Capitalisation du marché (USD)\") + p9.ylab(\"Actif à l'équité\")\n",
    "    + p9.scale_y_log10()\n",
    "    + p9.theme_bw() + p9.theme(text=p9.element_text(size=12))\n",
    ")"
   ]
  },
  {
   "cell_type": "markdown",
   "metadata": {},
   "source": [
    "### Exercice - Modifier le bar-plot\n",
    "Adaptez le bar-plot de l'exercice précédent pour \"mapper\" la variable `leverage_category` au paramètre de couleur `fill`. Spécifiez ensuite une liste de couleurs (`\"red\"` et `\"green\"`) via la fonction `scale_fill_manual()` (voir la [référence de l'API](https://plotnine.readthedocs.io/en/stable/api.html#color-and-fill-scales) pour plus d'information) :"
   ]
  },
  {
   "cell_type": "code",
   "execution_count": null,
   "metadata": {},
   "outputs": [],
   "source": [
    "(p9.ggplot(data=valeurs[valeurs['Total_Return_USD'] > 0.1],\n",
    "           mapping=p9.aes(x='month', fill='leverage_category'))\n",
    "    + p9.geom_bar()\n",
    "    + p9.scale_fill_manual([\"orange\", \"green\"])\n",
    ")"
   ]
  },
  {
   "cell_type": "markdown",
   "metadata": {},
   "source": [
    "## Visualiser des distributions\n",
    "* Un box-plot peut être utilisé :"
   ]
  },
  {
   "cell_type": "code",
   "execution_count": null,
   "metadata": {},
   "outputs": [],
   "source": [
    "(p9.ggplot(data=valeurs,\n",
    "           mapping=p9.aes(x='leverage_category', y='Assets_to_Equity'))\n",
    "    + p9.geom_boxplot()\n",
    "    + p9.scale_y_log10()\n",
    ")"
   ]
  },
  {
   "cell_type": "markdown",
   "metadata": {},
   "source": [
    "* On peut ajouter un nuage de points rouges derrière le box-plot :"
   ]
  },
  {
   "cell_type": "code",
   "execution_count": null,
   "metadata": {},
   "outputs": [],
   "source": [
    "(p9.ggplot(data=valeurs,\n",
    "           mapping=p9.aes(x='leverage_category', y='Assets_to_Equity'))\n",
    "    + p9.geom_jitter(alpha=0.3, color=\"red\")\n",
    "    + p9.geom_boxplot(alpha=0.)\n",
    "    + p9.scale_y_log10()\n",
    ")"
   ]
  },
  {
   "cell_type": "markdown",
   "metadata": {},
   "source": [
    "### Exercice - Distributions\n",
    "Une version plus \"élégante\" du box-plot est le \"violin-plot\" où la forme de la distribution est dessinée.\n",
    "\n",
    "* Replacez le box-plot par un violin-plot, c'est-à-dire `geom_violin()`, et forcer la couleur `\"grey\"`.\n",
    "* Faites en sorte que la couleur des points soit en fonction de l'année.\n",
    "\n",
    "Indice: en utilisant `factor(year)`, Plotnine considérera les valeurs numériques des années comme des catégories."
   ]
  },
  {
   "cell_type": "code",
   "execution_count": null,
   "metadata": {},
   "outputs": [],
   "source": [
    "(p9.ggplot(data=valeurs,\n",
    "           mapping=p9.aes(x='leverage_category', y='Assets_to_Equity',\n",
    "                          color='factor(year)'))\n",
    "    + p9.geom_jitter(alpha=0.3)\n",
    "    + p9.geom_violin(alpha=0.0, color=\"grey\")\n",
    "    + p9.scale_y_log10()\n",
    ")"
   ]
  },
  {
   "cell_type": "markdown",
   "metadata": {},
   "source": [
    "## Visualiser des données selon le temps\n",
    "* Calculer la moyenne des `Market_Cap_USD` pour chaque mois.\n",
    "* Réinitialiser l'index - `year` et `month` deviendront des colonnes.\n",
    "* Changer le type de `year` en `str` pour que ce soit une catégorie."
   ]
  },
  {
   "cell_type": "code",
   "execution_count": null,
   "metadata": {},
   "outputs": [],
   "source": [
    "moyennesMC = valeurs.groupby(['year', 'month'])['Market_Cap_USD'].mean()\n",
    "moyennesMC = moyennesMC.reset_index(name='Moyennes')\n",
    "moyennesMC['year'] = moyennesMC['year'].astype('str')\n",
    "moyennesMC"
   ]
  },
  {
   "cell_type": "markdown",
   "metadata": {},
   "source": [
    "* La visualisation peut ensuite se faire avec un \"line-plot\" (ou `geom_line`) avec les mois en `x` et les moyennes en `y`.\n",
    "* Afin d'avoir une ligne par année, il faut spécifier l'option couleur selon `factor(year)`."
   ]
  },
  {
   "cell_type": "code",
   "execution_count": null,
   "metadata": {},
   "outputs": [],
   "source": [
    "(p9.ggplot(data=moyennesMC,\n",
    "           mapping=p9.aes(x='month',\n",
    "                          y='Moyennes',\n",
    "                          color='year'))\n",
    "    + p9.geom_line()\n",
    ")"
   ]
  },
  {
   "cell_type": "markdown",
   "metadata": {},
   "source": [
    "## Faceting\n",
    "* `plotnine` has a special technique called faceting that allows to split one plot into multiple plots based on a factor variable included in the dataset."
   ]
  },
  {
   "cell_type": "code",
   "execution_count": null,
   "metadata": {},
   "outputs": [],
   "source": [
    "(p9.ggplot(data=surveys_complete,\n",
    "           mapping=p9.aes(x='weight',\n",
    "                          y='hindfoot_length',\n",
    "                          color='species_id'))\n",
    "    + p9.geom_point(alpha=0.1)\n",
    "    + p9.facet_wrap(\"sex\")\n",
    ")"
   ]
  },
  {
   "cell_type": "markdown",
   "metadata": {},
   "source": [
    "* We can apply the same concept on any of the available categorical variables:"
   ]
  },
  {
   "cell_type": "code",
   "execution_count": null,
   "metadata": {},
   "outputs": [],
   "source": [
    "(p9.ggplot(data=surveys_complete,\n",
    "           mapping=p9.aes(x='weight',\n",
    "                          y='hindfoot_length',\n",
    "                          color='species_id'))\n",
    "    + p9.geom_point(alpha=0.1)\n",
    "    + p9.facet_wrap(\"plot_id\")\n",
    ")"
   ]
  },
  {
   "cell_type": "markdown",
   "metadata": {},
   "source": [
    "* The `facet_grid` geometry allows you to explicitly specify how you want your plots to be arranged via formula notation (`rows ~ columns`)"
   ]
  },
  {
   "cell_type": "code",
   "execution_count": null,
   "metadata": {},
   "outputs": [],
   "source": [
    "# only select the years of interest\n",
    "survey_2000 = surveys_complete[surveys_complete[\"year\"].isin([2000, 2001])]\n",
    "\n",
    "(p9.ggplot(data=survey_2000,\n",
    "           mapping=p9.aes(x='weight',\n",
    "                          y='hindfoot_length',\n",
    "                          color='species_id'))\n",
    "    + p9.geom_point(alpha=0.1)\n",
    "    + p9.facet_grid(\"year ~ sex\")\n",
    ")"
   ]
  },
  {
   "cell_type": "markdown",
   "metadata": {},
   "source": [
    "### Exercise - Faceting\n",
    "`1`. Create a separate plot for each of the species that depicts how the average weight of the species changes through the years."
   ]
  },
  {
   "cell_type": "code",
   "execution_count": null,
   "metadata": {},
   "outputs": [],
   "source": [
    "yearly_weight = surveys_complete.groupby(['year',\n",
    "                                          'species_id'])['weight'].mean().reset_index()\n",
    "(p9.ggplot(data=yearly_weight,\n",
    "           mapping=p9.aes(x='year',\n",
    "                          y='weight'))\n",
    "    + p9.geom_line()\n",
    "    + p9.facet_wrap(\"species_id\")\n",
    ")"
   ]
  },
  {
   "cell_type": "markdown",
   "metadata": {},
   "source": [
    "`2`. Based on the previous exercise, visually compare how the weights of male and females has changed through time by creating a separate plot for each sex and an individual color assigned to each `species_id`."
   ]
  },
  {
   "cell_type": "code",
   "execution_count": null,
   "metadata": {},
   "outputs": [],
   "source": [
    "yearly_weight = surveys_complete.groupby(['year',\n",
    "                                          'species_id',\n",
    "                                          'sex'])['weight'].mean().reset_index()\n",
    "(p9.ggplot(data=yearly_weight,\n",
    "           mapping=p9.aes(x='year',\n",
    "                          y='weight',\n",
    "                          color='species_id'))\n",
    "    + p9.geom_line()\n",
    "    + p9.facet_wrap(\"sex\")\n",
    ")"
   ]
  },
  {
   "cell_type": "markdown",
   "metadata": {},
   "source": [
    "## Further customization\n",
    "* Consider the following example of a bar plot with the counts per year."
   ]
  },
  {
   "cell_type": "code",
   "execution_count": null,
   "metadata": {},
   "outputs": [],
   "source": [
    "(p9.ggplot(data=surveys_complete,\n",
    "           mapping=p9.aes(x='factor(year)'))\n",
    "    + p9.geom_bar()\n",
    ")"
   ]
  },
  {
   "cell_type": "markdown",
   "metadata": {},
   "source": [
    "* The `theme` functionality provides a way to rotate the text of the x-axis labels:"
   ]
  },
  {
   "cell_type": "code",
   "execution_count": null,
   "metadata": {},
   "outputs": [],
   "source": [
    "my_custom_theme = p9.theme(axis_text_x = p9.element_text(angle=90))\n",
    "\n",
    "(p9.ggplot(data=surveys_complete,\n",
    "           mapping=p9.aes(x='factor(year)'))\n",
    "    + p9.geom_bar()\n",
    "    + p9.theme_bw()\n",
    "    + my_custom_theme\n",
    ")"
   ]
  },
  {
   "cell_type": "code",
   "execution_count": null,
   "metadata": {},
   "outputs": [],
   "source": []
  }
 ],
 "metadata": {
  "anaconda-cloud": {},
  "kernelspec": {
   "display_name": "Python 3",
   "language": "python",
   "name": "python3"
  },
  "language_info": {
   "codemirror_mode": {
    "name": "ipython",
    "version": 3
   },
   "file_extension": ".py",
   "mimetype": "text/x-python",
   "name": "python",
   "nbconvert_exporter": "python",
   "pygments_lexer": "ipython3",
   "version": "3.7.4"
  }
 },
 "nbformat": 4,
 "nbformat_minor": 1
}
