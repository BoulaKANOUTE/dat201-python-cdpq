{
 "cells": [
  {
   "cell_type": "markdown",
   "metadata": {},
   "source": [
    "# Analyse et visualisation de données avec Python\n",
    "## Combiner des DataFrame avec Pandas\n",
    "Questions\n",
    "* Peut-on travaillers avec plusieurs sources de données?\n",
    "* Comment combiner les données de deux DataFrames?\n",
    "\n",
    "Objectifs\n",
    "* Combiner les données de plusieurs fichiers en utilisant `concat` et `merge`.\n",
    "* Combiner deux DataFrames utilisant un identifiant commun."
   ]
  },
  {
   "cell_type": "markdown",
   "metadata": {},
   "source": [
    "## Charger nos données"
   ]
  },
  {
   "cell_type": "code",
   "execution_count": null,
   "metadata": {},
   "outputs": [],
   "source": [
    "# Charger le module pandas\n",
    "import pandas as pd\n",
    "\n",
    "# Charger les données\n",
    "valeurs = pd.read_csv(\"../data/valeurs.csv\")"
   ]
  },
  {
   "cell_type": "markdown",
   "metadata": {},
   "source": [
    "## Concaténer des DataFrames"
   ]
  },
  {
   "cell_type": "code",
   "execution_count": null,
   "metadata": {},
   "outputs": [],
   "source": [
    "# Sélectionner les 10 premiers enregistrements\n",
    "valeurs_head = valeurs.###\n",
    "valeurs_head"
   ]
  },
  {
   "cell_type": "code",
   "execution_count": null,
   "metadata": {},
   "outputs": [],
   "source": [
    "# Sélectionner les 10 derniers enregistrements\n",
    "valeurs_tail = valeurs.###\n",
    "valeurs_tail"
   ]
  },
  {
   "cell_type": "code",
   "execution_count": null,
   "metadata": {
    "scrolled": true
   },
   "outputs": [],
   "source": [
    "# Réinitaliser l'index du second dataframe\n",
    "# L'option drop=True évite l'ajout d'une colonne avec l'ancien index\n",
    "valeurs_tail = valeurs_tail.###(###)\n",
    "valeurs_tail"
   ]
  },
  {
   "cell_type": "code",
   "execution_count": null,
   "metadata": {},
   "outputs": [],
   "source": [
    "# Concaténer les dataframes verticalement\n",
    "vertical = pd.#([valeurs_head, valeurs_tail###, ###)\n",
    "vertical"
   ]
  },
  {
   "cell_type": "code",
   "execution_count": null,
   "metadata": {},
   "outputs": [],
   "source": [
    "# Concaténer les dataframes horizontalement\n",
    "horizontal = pd.###([valeurs_head, valeurs_tail], axis=###)\n",
    "horizontal"
   ]
  },
  {
   "cell_type": "markdown",
   "metadata": {},
   "source": [
    "### Écrire le résultat dans un fichier CSV"
   ]
  },
  {
   "cell_type": "code",
   "execution_count": null,
   "metadata": {},
   "outputs": [],
   "source": [
    "# Omettre l'index\n",
    "vertical.###('vertical.csv', index=###)"
   ]
  },
  {
   "cell_type": "code",
   "execution_count": null,
   "metadata": {},
   "outputs": [],
   "source": [
    "# Charger le nouveau fichier CSV\n",
    "vertical### = pd.###('vertical.###')\n",
    "vertical2"
   ]
  },
  {
   "cell_type": "markdown",
   "metadata": {},
   "source": [
    "## Exercice - Concatener des DataFrames\n",
    "Dans `valeurs`, sélectionnez les enregistrements des années 2016 et 2017. Concaténez les deux dataframes verticalement. Créez un \"line-plot\" montrant la moyenne des `Market_Cap_USD` par mois pour chaque année (soit une ligne par année). Sauvegardez le tableau des moyennes dans un CSV et le recharger."
   ]
  },
  {
   "cell_type": "code",
   "execution_count": null,
   "metadata": {},
   "outputs": [],
   "source": [
    "# Obtenir les données pour chaque année\n",
    "valeurs2016 = valeurs[valeurs['###'] == ###]\n",
    "valeurs2017 = valeurs[valeurs['year'] == 2017]\n",
    "\n",
    "# Concatener verticalement\n",
    "valeurs16_17 = pd.###([valeurs2016, valeurs2017], ###)"
   ]
  },
  {
   "cell_type": "code",
   "execution_count": null,
   "metadata": {},
   "outputs": [],
   "source": [
    "# Calculer la moyenne par année et par mois\n",
    "moyennes16_17 = valeurs16_17.groupby(['###', '###'])['Market_Cap_USD'].###().unstack()\n",
    "moyennes16_17"
   ]
  },
  {
   "cell_type": "code",
   "execution_count": null,
   "metadata": {
    "scrolled": true
   },
   "outputs": [],
   "source": [
    "# Créer le graphique\n",
    "moyennes16_17.###(kind=\"###\")"
   ]
  },
  {
   "cell_type": "code",
   "execution_count": null,
   "metadata": {},
   "outputs": [],
   "source": [
    "# Écrire dans un fichier - garder l'index \"month\" cette fois-ci\n",
    "moyennes16_17.###(\"moyennes16_17.csv\")\n",
    "\n",
    "# Relire les données, fournir le nom de l'index\n",
    "pd.read_csv(\"moyennes16_17.csv\", index_col='###')"
   ]
  },
  {
   "cell_type": "markdown",
   "metadata": {},
   "source": [
    "## Joindre des DataFrames\n",
    "### Joindre deux DataFrames"
   ]
  },
  {
   "cell_type": "code",
   "execution_count": null,
   "metadata": {},
   "outputs": [],
   "source": [
    "# Nous allons utiliser les enregistrements de décembre 2015\n",
    "# pour lesquels le Market_Cap_USD est d'au moins 250 K$\n",
    "valeurs_250k = valeurs[ (valeurs['year'] == 2015) ###\n",
    "                        (valeurs['month'] ###) ###\n",
    "                        (valeurs['Market_Cap_USD'] ###) ]\n",
    "\n",
    "# Garder seulement quelques colonnes\n",
    "valeurs_250k = valeurs_250k[['company_ID',\n",
    "                             'Market_Cap_USD',\n",
    "                             'Total_Return_USD',\n",
    "                             'Assets_to_Equity', \n",
    "                             'leverage_category']]\n",
    "valeurs_250k"
   ]
  },
  {
   "cell_type": "code",
   "execution_count": null,
   "metadata": {},
   "outputs": [],
   "source": [
    "# Importons les informations des compagnies\n",
    "compagnies = pd.read_csv('../data/###.csv')\n",
    "compagnies"
   ]
  },
  {
   "cell_type": "markdown",
   "metadata": {},
   "source": [
    "### Identifier les clés de jonction"
   ]
  },
  {
   "cell_type": "code",
   "execution_count": null,
   "metadata": {},
   "outputs": [],
   "source": [
    "valeurs_250k.columns"
   ]
  },
  {
   "cell_type": "code",
   "execution_count": null,
   "metadata": {},
   "outputs": [],
   "source": [
    "compagnies.columns"
   ]
  },
  {
   "cell_type": "markdown",
   "metadata": {},
   "source": [
    "### Une intersection ou \"inner join\""
   ]
  },
  {
   "cell_type": "markdown",
   "metadata": {},
   "source": [
    "![Inner join of tables A and B](https://datacarpentry.org/python-ecology-lesson/fig/inner-join.png)"
   ]
  },
  {
   "cell_type": "code",
   "execution_count": null,
   "metadata": {},
   "outputs": [],
   "source": [
    "intersection = ###(###\n",
    "                        ###)\n",
    "# Quelle est la taille de la jonction?\n",
    "intersection.shape"
   ]
  },
  {
   "cell_type": "code",
   "execution_count": null,
   "metadata": {},
   "outputs": [],
   "source": [
    "intersection"
   ]
  },
  {
   "cell_type": "markdown",
   "metadata": {
    "collapsed": true
   },
   "source": [
    "### Jonction de gauche"
   ]
  },
  {
   "cell_type": "markdown",
   "metadata": {},
   "source": [
    "![Left join of tables A and B](https://datacarpentry.org/python-ecology-lesson/fig/left-join.png)"
   ]
  },
  {
   "cell_type": "code",
   "execution_count": null,
   "metadata": {},
   "outputs": [],
   "source": [
    "jonc_gauche = pd.merge(left=compagnies, right=valeurs_250k, ###,\n",
    "                       left_on='company_ID', right_on='company_ID')\n",
    "# Quelle est la taille de la jonction?\n",
    "jonc_gauche.shape"
   ]
  },
  {
   "cell_type": "code",
   "execution_count": null,
   "metadata": {},
   "outputs": [],
   "source": [
    "jonc_gauche"
   ]
  },
  {
   "cell_type": "markdown",
   "metadata": {},
   "source": [
    "### Les autres types de jonction\n",
    "* `how='right'` : toutes les rangées du second DataFrame sont gardées\n",
    "* `how='outer'` : équivalent d'une union, toutes les rangées sont gardées"
   ]
  },
  {
   "cell_type": "markdown",
   "metadata": {},
   "source": [
    "## Exercice - Joindre toutes les données\n",
    "`1`. Créez un nouveau DataFrame tel que tous les enregistrements de `valeurs.csv` aient leurs informations de compagnie au début de la jonction."
   ]
  },
  {
   "cell_type": "code",
   "execution_count": null,
   "metadata": {},
   "outputs": [],
   "source": [
    "valeurs_cie = pd.###(left=###, right=###, how='###', on='###')\n",
    "valeurs_cie"
   ]
  },
  {
   "cell_type": "markdown",
   "metadata": {},
   "source": [
    "`2`. Calculez et créez un graphique (\"bar-plot\") montrant la moyenne de `Market_Cap_USD` pour chaque `sector_GICS_name`."
   ]
  },
  {
   "cell_type": "code",
   "execution_count": null,
   "metadata": {},
   "outputs": [],
   "source": [
    "valeurs_cie.groupby(['###'])['###'].###().plot(kind='###')"
   ]
  },
  {
   "cell_type": "markdown",
   "metadata": {},
   "source": [
    "`3`. Calculez le nombre d'enregistrements selon le pays et selon la catégorie de \"leverage\". Créez un bar-plot montrant le nombre d'enregistrements par pays, avec une couleur différente par catégorie."
   ]
  },
  {
   "cell_type": "code",
   "execution_count": null,
   "metadata": {},
   "outputs": [],
   "source": [
    "pays_lev = valeurs_cie.groupby(['###',\n",
    "                                '###'])[\"record_id\"].###().unstack()\n",
    "pays_lev"
   ]
  },
  {
   "cell_type": "code",
   "execution_count": null,
   "metadata": {},
   "outputs": [],
   "source": [
    "pays_lev.plot(kind='###', stacked=True, logy=True)"
   ]
  },
  {
   "cell_type": "code",
   "execution_count": null,
   "metadata": {},
   "outputs": [],
   "source": []
  }
 ],
 "metadata": {
  "anaconda-cloud": {},
  "kernelspec": {
   "display_name": "Python 3",
   "language": "python",
   "name": "python3"
  },
  "language_info": {
   "codemirror_mode": {
    "name": "ipython",
    "version": 3
   },
   "file_extension": ".py",
   "mimetype": "text/x-python",
   "name": "python",
   "nbconvert_exporter": "python",
   "pygments_lexer": "ipython3",
   "version": "3.7.4"
  }
 },
 "nbformat": 4,
 "nbformat_minor": 1
}
