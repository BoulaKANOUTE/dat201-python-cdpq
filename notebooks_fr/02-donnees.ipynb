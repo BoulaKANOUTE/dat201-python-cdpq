{
 "cells": [
  {
   "cell_type": "markdown",
   "metadata": {},
   "source": [
    "# Analyse et visualisation de données avec Python\n",
    "## Démarrer avec des données\n",
    "Questions\n",
    "* Comment importer des données dans Python?\n",
    "* Qu'est-ce que Pandas?\n",
    "* Pourquoi utiliser Pandas pour traiter des données tabulaires?\n",
    "\n",
    "Objectifs\n",
    "* Charger une bibliothèque d'analyse de données Python (Pandas).\n",
    "* Utiliser `read_csv` pour lire des données tabulaires dans Python.\n",
    "* Décrire ce qu'est un DataFrame dans Python.\n",
    "* Accéder et résumer les données d'un DataFrames.\n",
    "* Effectuer des opérations mathématiques et statistiques avec un DataFrame.\n",
    "* Effectuer une première visualisation des données."
   ]
  },
  {
   "cell_type": "markdown",
   "metadata": {},
   "source": [
    "## Utiliser les DataFrames Pandas dans Python\n",
    "### Nos données\n",
    "Pour le présent cours, nous utiliserons des données de marchés boursiers. Une première table contient des valeurs de marché à différentes dates. Une seconde table présentée dans un autre chapitre contient de l'information sur les compagnies étudiées.\n",
    "\n",
    "Dans la présente section, nous allons utiliser le fichier **`../data/valeurs.csv`**. Il s'agit d'un fichier CSV (de valeurs séparées par des virgules) contenant les colonnes suivantes :\n",
    "\n",
    " Colonne                 | Description\n",
    "-----------------------: | :-------------------------------------\n",
    "`record_id`              | Identifiant unique de l'enregistrement\n",
    "`year`                   | Année de l'enregistrement\n",
    "`month`                  | Mois de l'enregistrement\n",
    "`day`                    | Jour de l'enregistrement\n",
    "`company_ID`             | Identifiant de la compagnie\n",
    "`Market_Cap_USD`         | Capitalisation boursière (en dollars US)\n",
    "`Total_Return_USD`       | Rendement total (en dollars US)\n",
    "`BETA_60M_ACWI`          | Indice ACWI (sur 5 ans)\n",
    "`volatility_60_days`     | Volatilité (sur 2 mois)\n",
    "`Assets_to_Equity`       | Actifs par équité\n",
    "`Net_debt_to_EBITDA`     | Dette nette par bénéfices avant intérêts et amortissement\n",
    "`Fixed_Assets_to_Assets` | Actifs fixes par tous les actifs\n",
    "`Cash_to_assets`         | Argent par actifs\n",
    "`ROA_2y`                 | Rentabilité des actifs (sur deux ans)\n",
    "`ROE_2y`                 | Retour sur l'équité (sur deux ans)\n",
    "`2y_avg_12M_earnings`    | Bénéfices moyens\n",
    "`FX_RATE_TO_USD`         | Taux fixe\n",
    "`leverage_category`      | Catégorie d'efficacité ou d'influence\n",
    "\n",
    "Les premiers enregistrements dans le fichiers ressemblent à :\n",
    "```\n",
    "record_id,year,month,day,company_ID,Market_Cap_USD,Total_Return_USD,...\n",
    "0,2015,4,30,1078,70046.75876000001,0.007122814590977855,...\n",
    "1,2015,5,31,1078,72353.5902,0.04696251615682878,...\n",
    "2,2015,6,30,1078,73068.19356,0.009876543209876408,...\n",
    "3,2015,7,31,1078,75465.09233,0.03769356153219229,...\n",
    "4,2015,8,31,1078,67502.07289,-0.10652988755178516,...\n",
    "5,2015,9,30,1078,59945.53702,-0.11194524177522636,0.6485284008925059,...\n",
    "6,2015,10,31,1078,66771.7568,0.11984087518647435,0.7120141025614667,...\n",
    "```"
   ]
  },
  {
   "cell_type": "markdown",
   "metadata": {
    "collapsed": true
   },
   "source": [
    "### Pandas dans Python\n",
    "L'une des meilleures options pour traiter des données tabulaires dans Python est d'utiliser la bibliothèque d'analyse de données Python, c'est-à-dire *Pandas*. La bibliothèque Pandas fournit des structures de données, produit des graphiques de haute qualité avec *Matplotlib* et s'intègre bien avec d'autres bibliothèques utilisant des tableaux *NumPy* (qui est une autre bibliothèque Python)."
   ]
  },
  {
   "cell_type": "code",
   "execution_count": null,
   "metadata": {},
   "outputs": [],
   "source": [
    "###"
   ]
  },
  {
   "cell_type": "markdown",
   "metadata": {
    "collapsed": true
   },
   "source": [
    "## Charger un fichier CSV avec Pandas\n",
    "### Qu'est-ce qu'un DataFrame?"
   ]
  },
  {
   "cell_type": "code",
   "execution_count": null,
   "metadata": {},
   "outputs": [],
   "source": [
    "# On utilise ici l'alias \"pd\" pour accéder aux ressources de Pandas\n",
    "###"
   ]
  },
  {
   "cell_type": "code",
   "execution_count": null,
   "metadata": {},
   "outputs": [],
   "source": [
    "### pd.read_csv(\"../data/valeurs.csv\")"
   ]
  },
  {
   "cell_type": "code",
   "execution_count": null,
   "metadata": {},
   "outputs": [],
   "source": [
    "###"
   ]
  },
  {
   "cell_type": "code",
   "execution_count": null,
   "metadata": {},
   "outputs": [],
   "source": [
    "valeurs### # Affiche les quelques premiers enregistrements"
   ]
  },
  {
   "cell_type": "markdown",
   "metadata": {},
   "source": [
    "### Démo - L'objet DataFrame\n",
    "Essayez les codes ci-dessous pour voir ce qu'ils retournent."
   ]
  },
  {
   "cell_type": "code",
   "execution_count": null,
   "metadata": {},
   "outputs": [],
   "source": [
    "valeurs.columns"
   ]
  },
  {
   "cell_type": "code",
   "execution_count": null,
   "metadata": {},
   "outputs": [],
   "source": [
    "valeurs.dtypes"
   ]
  },
  {
   "cell_type": "code",
   "execution_count": null,
   "metadata": {},
   "outputs": [],
   "source": [
    "valeurs.shape\n",
    "# Dans quel format est retourné la taille du DataFrame?"
   ]
  },
  {
   "cell_type": "markdown",
   "metadata": {},
   "source": [
    "## Calculer des statistiques"
   ]
  },
  {
   "cell_type": "code",
   "execution_count": null,
   "metadata": {},
   "outputs": [],
   "source": [
    "pd.###(valeurs###)"
   ]
  },
  {
   "cell_type": "code",
   "execution_count": null,
   "metadata": {},
   "outputs": [],
   "source": [
    "pd.unique(valeurs[###])"
   ]
  },
  {
   "cell_type": "markdown",
   "metadata": {},
   "source": [
    "### Exercice - Calculer des statistiques\n",
    "`1`. Créer une liste des différents identifiants de compagnie (`company_ID`) que l'on peut trouver dans `valeurs`. Sauvegarder le résultat dans `id_cie`. Combien y a-t-il de compagnies différentes?"
   ]
  },
  {
   "cell_type": "code",
   "execution_count": null,
   "metadata": {},
   "outputs": [],
   "source": [
    "###\n",
    "###"
   ]
  },
  {
   "cell_type": "markdown",
   "metadata": {},
   "source": [
    "`2`. Quelle est la différence entre `len(id_cie)` et `valeurs['company_ID'].nunique()`?"
   ]
  },
  {
   "cell_type": "code",
   "execution_count": null,
   "metadata": {},
   "outputs": [],
   "source": [
    "print(len(id_cie))\n",
    "print(valeurs['company_ID'].###())"
   ]
  },
  {
   "cell_type": "markdown",
   "metadata": {
    "collapsed": true
   },
   "source": [
    "## Grouper des données"
   ]
  },
  {
   "cell_type": "code",
   "execution_count": null,
   "metadata": {},
   "outputs": [],
   "source": [
    "valeurs###"
   ]
  },
  {
   "cell_type": "code",
   "execution_count": null,
   "metadata": {},
   "outputs": [],
   "source": [
    "print(\"Count:    \", valeurs['Market_Cap_USD']###)\n",
    "print(\"Mean:     \", valeurs['Market_Cap_USD'].###())\n",
    "print(\"Std Dev.: \", valeurs['Market_Cap_USD'].###())\n",
    "print(\"Min:      \", valeurs['Market_Cap_USD'].###())\n",
    "print(\"Max:      \", valeurs['Market_Cap_USD'].###())"
   ]
  },
  {
   "cell_type": "code",
   "execution_count": null,
   "metadata": {},
   "outputs": [],
   "source": [
    "# Grouper les données par compagnie\n",
    "### = valeurs###"
   ]
  },
  {
   "cell_type": "code",
   "execution_count": null,
   "metadata": {},
   "outputs": [],
   "source": [
    "# Obtenir des statistiques pour toutes les variables numériques\n",
    "par_cie.###()"
   ]
  },
  {
   "cell_type": "code",
   "execution_count": null,
   "metadata": {},
   "outputs": [],
   "source": [
    "# Obtenir uniquement la moyenne de chaque colonne\n",
    "par_cie.###()"
   ]
  },
  {
   "cell_type": "markdown",
   "metadata": {},
   "source": [
    "### Exercice - Grouper des données\n",
    "`1`. Combien de valeurs boursières sont `low_leverage` et combien sont `high_leverage`?"
   ]
  },
  {
   "cell_type": "code",
   "execution_count": null,
   "metadata": {},
   "outputs": [],
   "source": [
    "par_leverage = valeurs.###(###)\n",
    "par_leverage.###()"
   ]
  },
  {
   "cell_type": "markdown",
   "metadata": {},
   "source": [
    "`2`. Qu'arrive-t-il si on groupe par deux colonnes et si on recalcule les moyennes?"
   ]
  },
  {
   "cell_type": "code",
   "execution_count": null,
   "metadata": {},
   "outputs": [],
   "source": [
    "par_cie_lev = valeurs.###([###'leverage_category'])\n",
    "par_cie_lev.###()"
   ]
  },
  {
   "cell_type": "markdown",
   "metadata": {},
   "source": [
    "`3`. Faites calculer un résumé statistique de `Assets_to_Equity` pour chaque compagnie. Indice : c'est possible de sélectionner une seule colonne après avoir groupé les données."
   ]
  },
  {
   "cell_type": "code",
   "execution_count": null,
   "metadata": {},
   "outputs": [],
   "source": [
    "###"
   ]
  },
  {
   "cell_type": "markdown",
   "metadata": {},
   "source": [
    "### Obtenir la moyenne d'une seule compagnie"
   ]
  },
  {
   "cell_type": "code",
   "execution_count": null,
   "metadata": {},
   "outputs": [],
   "source": [
    "par_cie['Assets_to_Equity']###"
   ]
  },
  {
   "cell_type": "markdown",
   "metadata": {},
   "source": [
    "### Opérations mathématiques de base sur les colonnes"
   ]
  },
  {
   "cell_type": "code",
   "execution_count": null,
   "metadata": {},
   "outputs": [],
   "source": [
    "# Calculer tous les Market_Cap_USD en CAD\n",
    "valeurs['Market_Cap_USD'] ###"
   ]
  },
  {
   "cell_type": "markdown",
   "metadata": {
    "collapsed": true
   },
   "source": [
    "## Créer des graphiques à partir de Pandas"
   ]
  },
  {
   "cell_type": "code",
   "execution_count": null,
   "metadata": {},
   "outputs": [],
   "source": [
    "# Créer un graphe de courbes\n",
    "valeurs.groupby(###)['Market_Cap_USD'].mean()###"
   ]
  },
  {
   "cell_type": "markdown",
   "metadata": {},
   "source": [
    "### Exercice - Créer un graphique\n",
    "Créer un graphique de type `'bar'` montrant la médiane de `Cash_to_assets` pour chaque compagnie. Note: pour améliorer la visibilité des données, il faut ajouter l'argument `figsize=(16, 4)` à la méthode générant le graphique."
   ]
  },
  {
   "cell_type": "code",
   "execution_count": null,
   "metadata": {},
   "outputs": [],
   "source": [
    "###"
   ]
  },
  {
   "cell_type": "markdown",
   "metadata": {},
   "source": [
    "## Exemple résumé"
   ]
  },
  {
   "cell_type": "code",
   "execution_count": null,
   "metadata": {},
   "outputs": [],
   "source": [
    "### = valeurs.###(['company_ID','leverage_category'])\n",
    "cie_lev_totalc = par_cie_lev[###]###\n",
    "cie_lev_totalc"
   ]
  },
  {
   "cell_type": "code",
   "execution_count": null,
   "metadata": {},
   "outputs": [],
   "source": [
    "cie_lev_totalc###"
   ]
  },
  {
   "cell_type": "code",
   "execution_count": null,
   "metadata": {},
   "outputs": [],
   "source": [
    "clt = cie_lev_totalc.###()\n",
    "s_plot = clt.###(kind=###, stacked=###, figsize=(16, 4),\n",
    "                  ###=\"Total de Cash_to_assets par compagnie et leverage\")\n",
    "s_plot.set_###(\"Numéro de compagnie\")\n",
    "s_plot.set_ylabel(\"Cash to assets\")"
   ]
  },
  {
   "cell_type": "code",
   "execution_count": null,
   "metadata": {},
   "outputs": [],
   "source": []
  }
 ],
 "metadata": {
  "anaconda-cloud": {},
  "kernelspec": {
   "display_name": "Python 3",
   "language": "python",
   "name": "python3"
  },
  "language_info": {
   "codemirror_mode": {
    "name": "ipython",
    "version": 3
   },
   "file_extension": ".py",
   "mimetype": "text/x-python",
   "name": "python",
   "nbconvert_exporter": "python",
   "pygments_lexer": "ipython3",
   "version": "3.7.4"
  }
 },
 "nbformat": 4,
 "nbformat_minor": 1
}
