{
 "cells": [
  {
   "cell_type": "markdown",
   "metadata": {},
   "source": [
    "# Analyse et visualisation de données avec Python\n",
    "## Automatisation du traitement des données\n",
    "Questions\n",
    "* Comment automatiser le traitement des données dans Python?\n",
    "* Comment structurer le traitement avec des fonctions?\n",
    "\n",
    "Objectifs\n",
    "* Utiliser des boucles `for` pour automatiser l'analyse de données.\n",
    "* Générer des fichiers avec des noms uniques.\n",
    "* Construire du code réutilisable en Python.\n",
    "* Écrire des fonctions avec des conditions (`if`, `then`, `else`)."
   ]
  },
  {
   "cell_type": "markdown",
   "metadata": {},
   "source": [
    "## Charger nos données"
   ]
  },
  {
   "cell_type": "code",
   "execution_count": null,
   "metadata": {},
   "outputs": [],
   "source": [
    "# Charger le module pandas\n",
    "import pandas as pd\n",
    "\n",
    "# Charger les données\n",
    "valeurs = pd.read_csv(\"../data/valeurs.csv\")\n",
    "compagnies = pd.read_csv(\"../data/compagnies.csv\")"
   ]
  },
  {
   "cell_type": "markdown",
   "metadata": {},
   "source": [
    "## Automatiser l'analyse de données avec des boucles `for`"
   ]
  },
  {
   "cell_type": "code",
   "execution_count": null,
   "metadata": {},
   "outputs": [],
   "source": [
    "import os"
   ]
  },
  {
   "cell_type": "code",
   "execution_count": null,
   "metadata": {},
   "outputs": [],
   "source": [
    "dossier_annees = \"fichiers_par_annee\"\n",
    "os.mkdir(dossier_annees)"
   ]
  },
  {
   "cell_type": "code",
   "execution_count": null,
   "metadata": {
    "scrolled": true
   },
   "outputs": [],
   "source": [
    "os.listdir('.')"
   ]
  },
  {
   "cell_type": "code",
   "execution_count": null,
   "metadata": {},
   "outputs": [],
   "source": [
    "# Sélectionner les données complètes pour l'année 2016\n",
    "valeurs2016 = valeurs[valeurs['year'] == 2016].dropna()\n",
    "\n",
    "# Sauvegarder les données sélectionnées\n",
    "valeurs2016.to_csv(os.path.join(dossier_annees, \"valeurs_2016.csv\"), index=False)\n",
    "os.listdir(dossier_annees)"
   ]
  },
  {
   "cell_type": "code",
   "execution_count": null,
   "metadata": {},
   "outputs": [],
   "source": [
    "valeurs['year'].unique()"
   ]
  },
  {
   "cell_type": "code",
   "execution_count": null,
   "metadata": {},
   "outputs": [],
   "source": [
    "for annee in valeurs['year'].unique():\n",
    "    fichier=os.path.join(dossier_annees, \"valeurs_\" + str(annee) + \".csv\")\n",
    "    print(fichier)"
   ]
  },
  {
   "cell_type": "code",
   "execution_count": null,
   "metadata": {},
   "outputs": [],
   "source": [
    "for annee in valeurs['year'].unique():\n",
    "    # Sélectionner les données complètes de l'année en cours\n",
    "    valeurs_annee = valeurs[valeurs['year'] == annee].dropna()\n",
    "    \n",
    "    # Sauvegarder les données dans un fichier indépendant\n",
    "    fichier=os.path.join(dossier_annees, \"valeurs_\" + str(annee) + \".csv\")\n",
    "    valeurs_annee.to_csv(fichier, index=False)\n",
    "\n",
    "os.listdir(dossier_annees)"
   ]
  },
  {
   "cell_type": "markdown",
   "metadata": {
    "collapsed": true
   },
   "source": [
    "### Exercice - Création de fichiers différents\n",
    "Au lieu de diviser les données par année, nous voudrions les diviser par pays. Il faut donc au préalable joindre les deux dataframes."
   ]
  },
  {
   "cell_type": "code",
   "execution_count": null,
   "metadata": {},
   "outputs": [],
   "source": [
    "dossier_pays = \"fichiers_par_pays\"\n",
    "os.mkdir(dossier_pays)"
   ]
  },
  {
   "cell_type": "code",
   "execution_count": null,
   "metadata": {},
   "outputs": [],
   "source": [
    "valeurs_cie = pd.merge(left=compagnies, right=valeurs, how='right', on='company_ID')\n",
    "\n",
    "for pays in valeurs_cie['country'].unique():\n",
    "    # Sélectionner les données complètes du pays en cours\n",
    "    valeurs_cie_pays = valeurs_cie[valeurs_cie['country'] == pays].dropna()\n",
    "    \n",
    "    # Sauvegarder les données dans un fichier indépendant\n",
    "    fichier=os.path.join(dossier_pays, \"valeurs_\" + str(pays) + \".csv\")\n",
    "    valeurs_cie_pays.to_csv(fichier, index=False)\n",
    "\n",
    "os.listdir(dossier_pays)"
   ]
  },
  {
   "cell_type": "markdown",
   "metadata": {},
   "source": [
    "## Développer du code modulaire et réutilisable avec des fonctions"
   ]
  },
  {
   "cell_type": "code",
   "execution_count": null,
   "metadata": {},
   "outputs": [],
   "source": [
    "def sauvegarder_pays(donnees, nom_dossier, prefixe, code_pays):\n",
    "    \"\"\"\n",
    "    Écrire un fichier avec les données d'un seul pays\n",
    "\n",
    "    donnees --- le DataFrame\n",
    "    nom_dossier --- dossier dans lequel sauvegarder le fichier\n",
    "    prefixe --- préfixe au nom de fichier CSV\n",
    "    code_pays --- chaîne de 3 charactères du pays\n",
    "    \"\"\"\n",
    "\n",
    "    # Sélectionner les données complètes du pays en cours\n",
    "    donnees_pays = donnees[donnees['country'] == code_pays].dropna()\n",
    "\n",
    "    # Sauvegarder les données dans un fichier indépendant\n",
    "    fichier=os.path.join(nom_dossier, prefixe + str(code_pays) + \".csv\")\n",
    "    donnees_pays.to_csv(fichier, index=False)"
   ]
  },
  {
   "cell_type": "code",
   "execution_count": null,
   "metadata": {},
   "outputs": [],
   "source": [
    "help(sauvegarder_pays)"
   ]
  },
  {
   "cell_type": "code",
   "execution_count": null,
   "metadata": {},
   "outputs": [],
   "source": [
    "sauvegarder_pays(valeurs_cie, dossier_pays, \"valeurs_\", \"FRA\")"
   ]
  },
  {
   "cell_type": "code",
   "execution_count": null,
   "metadata": {},
   "outputs": [],
   "source": [
    "def sauvegarder_les_pays(donnees, nom_dossier, prefixe, codes_pays):\n",
    "    \"\"\"\n",
    "    Écrire un fichier par pays\n",
    "\n",
    "    donnees --- le DataFrame\n",
    "    nom_dossier --- dossier dans lequel sauvegarder le fichier\n",
    "    prefixe --- préfixe au nom de fichier CSV\n",
    "    codes_pays --- liste de chaînes de 3 charactères du pays\n",
    "    \"\"\"\n",
    "\n",
    "    for pays in codes_pays:\n",
    "        sauvegarder_pays(donnees, nom_dossier, prefixe, pays)"
   ]
  },
  {
   "cell_type": "code",
   "execution_count": null,
   "metadata": {},
   "outputs": [],
   "source": [
    "sauvegarder_les_pays(valeurs_cie, dossier_pays, \"valeurs_\",\n",
    "                     [\"BEL\", \"FRA\", \"GBR\"])"
   ]
  },
  {
   "cell_type": "markdown",
   "metadata": {},
   "source": [
    "## Tester les arguments avec des conditions\n",
    "* On veut créer le dossier automatiquement\n",
    "* Par défaut, les codes de pays sont une liste vide signifiant tous les pays\n",
    "* On veut que la fonction retourne les fichiers créés"
   ]
  },
  {
   "cell_type": "code",
   "execution_count": null,
   "metadata": {},
   "outputs": [],
   "source": [
    "def sauvegarder_pays(donnees, nom_dossier, prefixe, code_pays):\n",
    "    \"\"\"\n",
    "    Écrire un fichier avec les données d'un seul pays.\n",
    "    Retourner le nom de fichier.\n",
    "\n",
    "    donnees --- le DataFrame\n",
    "    nom_dossier --- dossier dans lequel sauvegarder le fichier\n",
    "    prefixe --- préfixe au nom de fichier CSV\n",
    "    code_pays --- chaîne de 3 charactères du pays\n",
    "    \"\"\"\n",
    "\n",
    "    # Sélectionner les données complètes du pays en cours\n",
    "    donnees_pays = donnees[donnees['country'] == code_pays].dropna()\n",
    "\n",
    "    # Sauvegarder les données dans un fichier indépendant\n",
    "    fichier=os.path.join(nom_dossier, prefixe + str(code_pays) + \".csv\")\n",
    "    donnees_pays.to_csv(fichier, index=False)\n",
    "\n",
    "    return fichier"
   ]
  },
  {
   "cell_type": "code",
   "execution_count": null,
   "metadata": {},
   "outputs": [],
   "source": [
    "def sauvegarder_les_pays(donnees, nom_dossier, prefixe, codes_pays = []):\n",
    "    \"\"\"\n",
    "    Écrire un fichier par pays. Retourner la liste de fichiers créés.\n",
    "\n",
    "    donnees --- le DataFrame\n",
    "    nom_dossier --- dossier dans lequel sauvegarder le fichier\n",
    "    prefixe --- préfixe au nom de fichier CSV\n",
    "    codes_pays --- liste de chaînes de 3 charactères du pays --- défaut: [] - tous les pays\n",
    "    \"\"\"\n",
    "\n",
    "    if nom_dossier in os.listdir('.'):\n",
    "        print('Le dossier existe déjà')\n",
    "    else:\n",
    "        os.mkdir(nom_dossier)\n",
    "        print('Création du dossier')\n",
    "\n",
    "    if not codes_pays:\n",
    "        codes_pays = donnees['country'].unique()\n",
    "        \n",
    "    fichiers = []\n",
    "\n",
    "    for pays in codes_pays:\n",
    "        fichiers.append(sauvegarder_pays(donnees, nom_dossier, prefixe, pays))\n",
    "\n",
    "    return fichiers"
   ]
  },
  {
   "cell_type": "code",
   "execution_count": null,
   "metadata": {},
   "outputs": [],
   "source": [
    "sauvegarder_les_pays(valeurs_cie, \"par_pays\", \"valeurs_\",\n",
    "                     [\"BEL\", \"FRA\", \"GBR\"])"
   ]
  },
  {
   "cell_type": "code",
   "execution_count": null,
   "metadata": {},
   "outputs": [],
   "source": [
    "sauvegarder_les_pays(valeurs_cie, \"par_pays\", \"valeurs_\")"
   ]
  },
  {
   "cell_type": "code",
   "execution_count": null,
   "metadata": {},
   "outputs": [],
   "source": []
  }
 ],
 "metadata": {
  "anaconda-cloud": {},
  "kernelspec": {
   "display_name": "Python 3",
   "language": "python",
   "name": "python3"
  },
  "language_info": {
   "codemirror_mode": {
    "name": "ipython",
    "version": 3
   },
   "file_extension": ".py",
   "mimetype": "text/x-python",
   "name": "python",
   "nbconvert_exporter": "python",
   "pygments_lexer": "ipython3",
   "version": "3.7.4"
  }
 },
 "nbformat": 4,
 "nbformat_minor": 1
}
